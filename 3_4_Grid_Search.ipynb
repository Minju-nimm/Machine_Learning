{
 "cells": [
  {
   "attachments": {},
   "cell_type": "markdown",
   "metadata": {},
   "source": [
    "# [ Grid Search ]\n",
    "- 사이킷런의 GridSearchCV는 하이퍼 파라미터를 순차적으로 입력하면서 편리하게 최적의 파라미터를 도출할 수 있게 해준다. GridSearchCV라는 이름에서 알 수 있듯이, 교차 검증을 기반으로 하이퍼 파라미터의 최적 값을 찾게 해준다. \n",
    "\n",
    "  - 하이퍼 파라미터(Hyper Parameter) : 머신러닝 알고리즘의 주요 구성 요소. 이 값을 조정해서 알고리즘 예측 성능을 개선할 수 있다.\n",
    "  - Grid는 격자라는 뜻으로, 촘촘하게 파라미터를 입력하면서 테스트를 하는 방식이다.\n",
    "  - 학습 데이터를 GridSearchCV를 이용해 최적 하이퍼 파라미터 튜닝을 수행한 후, 별도의 테스트 데이터로 이를 평가하는 것이 일반적인 머신러닝 모델 적용 방법\n",
    "  \n",
    "- ex) Decision Tree 알고리즘의 여러 하이퍼 파라미터를 순차적으로 변경하면서 최고 성능을 가지는 파라미터 조합을 찾고자 한다면?\n",
    "  -> 파라미터 집합 만들고, 이를 순차적으로 적용하면서 최적화 수행"
   ]
  },
  {
   "cell_type": "code",
   "execution_count": 5,
   "metadata": {},
   "outputs": [],
   "source": [
    "from sklearn.datasets import load_iris\n",
    "from sklearn.tree import DecisionTreeClassifier\n",
    "from sklearn.model_selection import GridSearchCV, train_test_split\n",
    "\n",
    "import pandas as pd"
   ]
  },
  {
   "cell_type": "code",
   "execution_count": 8,
   "metadata": {},
   "outputs": [
    {
     "name": "stdout",
     "output_type": "stream",
     "text": [
      "GridSearchCV 최적 파라미터 :  {'max_depth': 3, 'min_samples_split': 2}\n",
      "GridSearchCV 최고 정확도 :  0.9166666666666666\n"
     ]
    }
   ],
   "source": [
    "# 내장된 iris data 이용\n",
    "iris_data = load_iris()\n",
    "X_train, X_test, y_train, y_test = train_test_split(iris_data.data, iris_data.target, \n",
    "                                                    test_size=0.2, random_state=156)\n",
    "\n",
    "dtree = DecisionTreeClassifier()\n",
    "\n",
    "# 파라미터를 딕셔너리 형태(key + 리스트)로 설정 \n",
    "parameters = {\"max_depth\":[1,2,3], \"min_samples_split\": [2,3]}\n",
    "\n",
    "# param_grid의 하이퍼 파라미터를 3개의 train/test set fold로 나누어 테스트 수행 설정\n",
    "gs = GridSearchCV(dtree, param_grid = parameters, cv=3)\n",
    "gs.fit(X_train, y_train)\n",
    "\n",
    "print(\"GridSearchCV 최적 파라미터 : \", gs.best_params_)\n",
    "print(\"GridSearchCV 최고 정확도 : \", gs.best_score_)\n"
   ]
  },
  {
   "cell_type": "code",
   "execution_count": null,
   "metadata": {},
   "outputs": [],
   "source": [
    "# GridSearchCV 결과를 추출해 DataFrame으로 변환\n",
    "df = pd.DataFrame(gs.cv_results_)\n",
    "df[[\"params\", \"mean_test_score\"]]"
   ]
  },
  {
   "cell_type": "markdown",
   "metadata": {},
   "source": [
    "---"
   ]
  },
  {
   "attachments": {},
   "cell_type": "markdown",
   "metadata": {},
   "source": [
    "References\n",
    "- 파이썬 머신러닝 완벽 가이드 111p"
   ]
  },
  {
   "cell_type": "code",
   "execution_count": null,
   "metadata": {},
   "outputs": [],
   "source": []
  }
 ],
 "metadata": {
  "kernelspec": {
   "display_name": "Python 3",
   "language": "python",
   "name": "python3"
  },
  "language_info": {
   "codemirror_mode": {
    "name": "ipython",
    "version": 3
   },
   "file_extension": ".py",
   "mimetype": "text/x-python",
   "name": "python",
   "nbconvert_exporter": "python",
   "pygments_lexer": "ipython3",
   "version": "3.11.0"
  },
  "orig_nbformat": 4,
  "vscode": {
   "interpreter": {
    "hash": "c261aea317cc0286b3b3261fbba9abdec21eaa57589985bb7a274bf54d6cc0a7"
   }
  }
 },
 "nbformat": 4,
 "nbformat_minor": 2
}
