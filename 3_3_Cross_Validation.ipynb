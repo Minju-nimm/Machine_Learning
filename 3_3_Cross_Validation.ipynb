{
 "cells": [
  {
   "cell_type": "markdown",
   "metadata": {},
   "source": [
    "# [ 교차검증 (Cross Validation) ]\n",
    "## 교차검증의 필요성\n",
    "- 보통 train set으로 모델을 훈련, test set으로 모델을 검증 (보통 8:2) -> 약점 존재 : 과적합(Overfitting)\n",
    "- **과적합(Overfitting)** : 고정된 test set으로 모델의 성능을 검증하고 (파라미터를) 수정하는 과정을 반복하면, 모델은 test set에만 잘 동작하게 됨"
   ]
  },
  {
   "cell_type": "markdown",
   "metadata": {},
   "source": [
    "### 과대적합(Overfitting) / 과소적합(Underfitting)\n",
    "- 과대적합 : 모델이 training set에서는 좋은 성능을 보이지만 test set에는 낮은 성능을 보이는 경우\n",
    "    - 매개변수가 많고 표현력이 높은 모델\n",
    "    - 모델이 훈련 데이터에 너무 잘 맞지만 일반성이 떨어진다는 뜻\n",
    "<br>\n",
    "<br />\n",
    "- 과소적합 : training set와 test set 성능 차이가 크지 않지만 모두 낮은 성능을 보이는 경우\n",
    "    - 훈련 데이터가 너무 적은 모델\n",
    "    - 모델이 너무 단순해서 데이터의 내재된 구조를 학습하지 못할 때 발생"
   ]
  },
  {
   "cell_type": "markdown",
   "metadata": {},
   "source": [
    "## 교차검증이란?\n",
    "- 쉽게 말해 모델 학습 시 데이터를 훈련용과 검증용으로 교차하여 선택하는 방법\n",
    "\n"
   ]
  },
  {
   "cell_type": "code",
   "execution_count": null,
   "metadata": {},
   "outputs": [],
   "source": []
  },
  {
   "cell_type": "markdown",
   "metadata": {},
   "source": [
    "## Model의 성능 측정\n",
    "1. Training Set \n",
    "\n",
    "2. Validation Set\n",
    "3. Test Set"
   ]
  },
  {
   "cell_type": "code",
   "execution_count": null,
   "metadata": {},
   "outputs": [],
   "source": []
  },
  {
   "cell_type": "markdown",
   "metadata": {},
   "source": [
    "## 교차 검증 종류\n",
    "\n",
    "### 1. 단순 교차 검증\n",
    "\n"
   ]
  },
  {
   "cell_type": "markdown",
   "metadata": {},
   "source": [
    "### 2. \n",
    "\n",
    "\n",
    "### 3. \n",
    "\n",
    "### 4.\n"
   ]
  },
  {
   "cell_type": "code",
   "execution_count": null,
   "metadata": {},
   "outputs": [],
   "source": []
  },
  {
   "cell_type": "code",
   "execution_count": null,
   "metadata": {},
   "outputs": [],
   "source": []
  }
 ],
 "metadata": {
  "kernelspec": {
   "display_name": "Python 3.10.9 64-bit (microsoft store)",
   "language": "python",
   "name": "python3"
  },
  "language_info": {
   "codemirror_mode": {
    "name": "ipython",
    "version": 3
   },
   "file_extension": ".py",
   "mimetype": "text/x-python",
   "name": "python",
   "nbconvert_exporter": "python",
   "pygments_lexer": "ipython3",
   "version": "3.10.9"
  },
  "orig_nbformat": 4,
  "vscode": {
   "interpreter": {
    "hash": "0df79a5982cc5a70553c602a5d43d4cb06524f7080da494cbafac53b4237f0a3"
   }
  }
 },
 "nbformat": 4,
 "nbformat_minor": 2
}
