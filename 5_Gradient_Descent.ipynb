{
 "cells": [
  {
   "attachments": {},
   "cell_type": "markdown",
   "metadata": {},
   "source": [
    "# [ 경사하강법(Gradient Descent, GD) ]\n",
    "- 경사 하강법의 사전적 의미는 '점진적인 하강'\n",
    "- \n",
    "- 최솟값 구하는 방법 중 하나\n",
    "- Gradient Descent 구현\n",
    "\n",
    "<img src=\"https://nbviewer.jupyter.org/github/engineersCode/EngComp6_deeplearning/blob/master/images/descent.png\n",
    "\" width=\"400\" height=\"300\" />"
   ]
  },
  {
   "attachments": {},
   "cell_type": "markdown",
   "metadata": {},
   "source": [
    "위와 같은 이차함수 그래프의 경우, 어느 지점에서 출발해도 경사를 따라가다 보면 최적(미분값 = 0이 되는 지점)값을 만날 수 있다. 하지만 해결해야 할 문제 공간은 아래와 같다. 전역 최솟값, 지역 최솟값"
   ]
  },
  {
   "cell_type": "code",
   "execution_count": null,
   "metadata": {},
   "outputs": [],
   "source": []
  },
  {
   "cell_type": "markdown",
   "metadata": {},
   "source": [
    "- 머신러닝 알고리즘에서 최적화(Optimizer)는 비용함수의 값이 가장 작아지는 최적의 파라미터를 찾는 과정\n",
    "    - 이를 달성하기 위해서, 경사하강법(Gradient Descent) 기반의 방식이 가장 기본이 되는 알고리즘\n",
    "<br>\n",
    "<br />\n",
    "- Cost Function (비용함수)\n",
    "    - **실제 데이터(위 그림에서 빨간 점) 과 직선 사이의 차이를 줄이는 것**이 목적 \n",
    "    - cost function을 최소로 하는  w 와  b 를 찾아보자.\n",
    "    - 이차함수의 최솟값을 구하는 방법은? : 미분한 지점이 0이 되는 것\n",
    "$$\\text{cost function} = \\frac{1}{N}\\sum_{i=1}^n (y_i - f(x_i))^2$$"
   ]
  },
  {
   "attachments": {},
   "cell_type": "markdown",
   "metadata": {},
   "source": [
    "### 학습률(Learning rate)\n",
    "- 모델 학습에서 학습 속도나 성능에 큰 영향을 끼치는 중요한 하이퍼파라미터\n"
   ]
  },
  {
   "cell_type": "code",
   "execution_count": null,
   "metadata": {},
   "outputs": [],
   "source": []
  },
  {
   "attachments": {},
   "cell_type": "markdown",
   "metadata": {},
   "source": [
    "---"
   ]
  },
  {
   "cell_type": "markdown",
   "metadata": {},
   "source": [
    "## 1. 배치 경사 하강법"
   ]
  },
  {
   "cell_type": "code",
   "execution_count": null,
   "metadata": {},
   "outputs": [],
   "source": []
  },
  {
   "cell_type": "markdown",
   "metadata": {},
   "source": [
    "## 2. 확률적 경사 하강법(SGD, Stochastic Gradient Descent)\n",
    "- "
   ]
  },
  {
   "cell_type": "code",
   "execution_count": null,
   "metadata": {},
   "outputs": [],
   "source": []
  },
  {
   "cell_type": "markdown",
   "metadata": {},
   "source": [
    "## 3. 미니배치 경사 하강법"
   ]
  },
  {
   "cell_type": "code",
   "execution_count": null,
   "metadata": {},
   "outputs": [],
   "source": []
  },
  {
   "cell_type": "code",
   "execution_count": null,
   "metadata": {},
   "outputs": [],
   "source": []
  },
  {
   "cell_type": "code",
   "execution_count": null,
   "metadata": {},
   "outputs": [],
   "source": [
    "# epoch : 학습 수"
   ]
  },
  {
   "cell_type": "markdown",
   "metadata": {},
   "source": [
    "---"
   ]
  },
  {
   "cell_type": "markdown",
   "metadata": {},
   "source": [
    "References\n",
    "- 핸즈온머신러닝 1부-4장\n",
    "- [유튜브 테디노트 - 경사하강법 수학 기본 개념](https://youtu.be/GEdLNvPIbiM)"
   ]
  }
 ],
 "metadata": {
  "kernelspec": {
   "display_name": "Python 3",
   "language": "python",
   "name": "python3"
  },
  "language_info": {
   "codemirror_mode": {
    "name": "ipython",
    "version": 3
   },
   "file_extension": ".py",
   "mimetype": "text/x-python",
   "name": "python",
   "nbconvert_exporter": "python",
   "pygments_lexer": "ipython3",
   "version": "3.11.0 (main, Oct 24 2022, 18:26:48) [MSC v.1933 64 bit (AMD64)]"
  },
  "orig_nbformat": 4,
  "vscode": {
   "interpreter": {
    "hash": "c261aea317cc0286b3b3261fbba9abdec21eaa57589985bb7a274bf54d6cc0a7"
   }
  }
 },
 "nbformat": 4,
 "nbformat_minor": 2
}
