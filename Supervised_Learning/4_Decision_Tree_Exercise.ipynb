{
 "cells": [
  {
   "attachments": {},
   "cell_type": "markdown",
   "metadata": {},
   "source": [
    "# [ Decision Tree Exercise - 사용자 행동 인식 데이터 세트 ]\n",
    "- 참고 : 파이썬 머신러닝 완벽 가이드 200p"
   ]
  },
  {
   "cell_type": "code",
   "execution_count": null,
   "metadata": {},
   "outputs": [],
   "source": []
  },
  {
   "cell_type": "markdown",
   "metadata": {},
   "source": [
    "---"
   ]
  },
  {
   "attachments": {},
   "cell_type": "markdown",
   "metadata": {},
   "source": [
    "# [ Decision Tree Exercise ]\n",
    "- 참고 : 파이썬 라이브러리를 활용한 머신러닝 2판"
   ]
  },
  {
   "cell_type": "markdown",
   "metadata": {},
   "source": [
    "### 2차원 데이터셋을 분류하는 결정트리 생성\n",
    "- two_moons data (각 클래스에 데이터 포인트 50개씩, 반달 두개가 포개진 듯한 모양)\n",
    "- 대부분의 데이터는 예/아니오 형태의 특성으로 구분되지 않고, 2차원 데이터셋과 같이 연속된 특성으로 구성됨\n",
    "- ex) 연속 데이터에 적용할 테스트(질문) : 특성 i는 값 a보다 큰가?\n",
    "  \n",
    "References\n",
    "- 참고 : 파이썬 라이브러리를 활용한 머신러닝 2판 107p \n",
    "- [make_moons document](https://scikit-learn.org/stable/modules/generated/sklearn.datasets.make_moons.html)"
   ]
  },
  {
   "cell_type": "code",
   "execution_count": null,
   "metadata": {},
   "outputs": [],
   "source": [
    "from sklearn.datasets import make_moons\n",
    "X, y = make_moons(n_samples=100, noise = 0.15)"
   ]
  }
 ],
 "metadata": {
  "kernelspec": {
   "display_name": "Python 3",
   "language": "python",
   "name": "python3"
  },
  "language_info": {
   "name": "python",
   "version": "3.11.0 (main, Oct 24 2022, 18:26:48) [MSC v.1933 64 bit (AMD64)]"
  },
  "orig_nbformat": 4,
  "vscode": {
   "interpreter": {
    "hash": "c261aea317cc0286b3b3261fbba9abdec21eaa57589985bb7a274bf54d6cc0a7"
   }
  }
 },
 "nbformat": 4,
 "nbformat_minor": 2
}
