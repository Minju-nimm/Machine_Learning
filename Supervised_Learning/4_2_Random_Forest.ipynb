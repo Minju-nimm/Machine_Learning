{
 "cells": [
  {
   "attachments": {},
   "cell_type": "markdown",
   "metadata": {},
   "source": [
    "# [ Random Forest(랜덤 포레스트) ]\n",
    "- 랜덤 포레스트는 일반적으로 배깅(또는 페이스팅)을 적용한 결정 트리의 앙상블\n",
    "- 배깅(Bagging = bootsrap aggregating) : 같은 알고리즘으로 여러 분류기를 만들어서, 데이터 샘플링을 서로 다르게 가져가면서 학습을 수행해 보팅으로 최종 결정하는 알고리즘  \n",
    "  ->  배깅의 대표 알고리즘 : 랜덤 포레스트\n",
    "\n",
    "<img src =\"https://user-images.githubusercontent.com/119478998/209598243-357c6680-3975-49db-b511-ccda552847fb.png\" width = \"700\" height = \"400\"/>\n",
    "\n",
    "- 개별 분류기의 기반 알고리즘은 Decision Tree, 개별 트리가 학습하는 데이터세트는 전체 데이터에서 일부가 중첩되게 샘플링 된 데이터 세트 -> bootstrapping 분할 방식"
   ]
  },
  {
   "cell_type": "code",
   "execution_count": null,
   "metadata": {},
   "outputs": [],
   "source": []
  },
  {
   "cell_type": "markdown",
   "metadata": {},
   "source": [
    "\n",
    "\n",
    "- 과적합 문제를 해결하기 위해"
   ]
  },
  {
   "attachments": {},
   "cell_type": "markdown",
   "metadata": {},
   "source": [
    "## Random subspace\n",
    "- 다양한 변수(Feature) 존재\n",
    "- Decision Tree Model은 <u>모든 Feature를 고려</u>해서 분기점 생성\n",
    "\n",
    "- Random Forest Model은 모든 Feature 중 일부 Feature를 무작위로 선택\n",
    "- 개별 모델의 성능은 Decision Tree(all Feature)보다 낮다. \n",
    "  - ex) 원맨팀 vs. 훈련이 잘된 팀"
   ]
  },
  {
   "cell_type": "code",
   "execution_count": null,
   "metadata": {},
   "outputs": [],
   "source": []
  },
  {
   "attachments": {},
   "cell_type": "markdown",
   "metadata": {},
   "source": [
    "## Extra Tree"
   ]
  },
  {
   "cell_type": "code",
   "execution_count": null,
   "metadata": {},
   "outputs": [],
   "source": []
  },
  {
   "cell_type": "markdown",
   "metadata": {},
   "source": [
    "## 특성 중요도"
   ]
  },
  {
   "cell_type": "code",
   "execution_count": null,
   "metadata": {},
   "outputs": [],
   "source": []
  },
  {
   "attachments": {},
   "cell_type": "markdown",
   "metadata": {},
   "source": [
    "---"
   ]
  },
  {
   "attachments": {},
   "cell_type": "markdown",
   "metadata": {},
   "source": [
    "## RandomForestClassifier"
   ]
  },
  {
   "cell_type": "markdown",
   "metadata": {},
   "source": [
    "```python\n",
    "params = {\n",
    "    \"random_state\": SEED,\n",
    "    \"max_features\" : \"sqrt\", # 몇개의 Feature로 학습 시킬지 None : 전체피쳐\n",
    "    \"n_estimators\" : 10, # 트리 개수\n",
    "    \"max_depth\" : 10,\n",
    "    \"min_samples_split\" : 10,\n",
    "    \"min_samples_leaf\" : 3,\n",
    "}\n",
    "```"
   ]
  },
  {
   "cell_type": "code",
   "execution_count": 1,
   "metadata": {},
   "outputs": [],
   "source": [
    "from sklearn.datasets import load_iris, load_wine, load_breast_cancer, load_diabetes\n",
    "from sklearn.preprocessing import StandardScaler\n",
    "from sklearn.pipeline import make_pipeline"
   ]
  },
  {
   "cell_type": "code",
   "execution_count": null,
   "metadata": {},
   "outputs": [],
   "source": [
    "base_model = make_pipeline(\n",
    "    Standard\n",
    ")\n",
    ")"
   ]
  },
  {
   "attachments": {},
   "cell_type": "markdown",
   "metadata": {},
   "source": [
    "### wine data"
   ]
  },
  {
   "cell_type": "code",
   "execution_count": null,
   "metadata": {},
   "outputs": [],
   "source": []
  },
  {
   "cell_type": "markdown",
   "metadata": {},
   "source": [
    "## RandomForestRegressor"
   ]
  },
  {
   "cell_type": "code",
   "execution_count": null,
   "metadata": {},
   "outputs": [],
   "source": []
  },
  {
   "cell_type": "markdown",
   "metadata": {},
   "source": [
    "---"
   ]
  },
  {
   "cell_type": "code",
   "execution_count": null,
   "metadata": {},
   "outputs": [],
   "source": []
  }
 ],
 "metadata": {
  "kernelspec": {
   "display_name": "Python 3",
   "language": "python",
   "name": "python3"
  },
  "language_info": {
   "codemirror_mode": {
    "name": "ipython",
    "version": 3
   },
   "file_extension": ".py",
   "mimetype": "text/x-python",
   "name": "python",
   "nbconvert_exporter": "python",
   "pygments_lexer": "ipython3",
   "version": "3.11.0"
  },
  "orig_nbformat": 4,
  "vscode": {
   "interpreter": {
    "hash": "c261aea317cc0286b3b3261fbba9abdec21eaa57589985bb7a274bf54d6cc0a7"
   }
  }
 },
 "nbformat": 4,
 "nbformat_minor": 2
}
