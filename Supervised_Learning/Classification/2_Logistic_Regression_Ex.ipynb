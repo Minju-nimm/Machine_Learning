{
 "cells": [
  {
   "attachments": {},
   "cell_type": "markdown",
   "metadata": {},
   "source": [
    "# [ Logistic_Regression_Exercise ]\n",
    "\n",
    "## Exercise : breast_cancer data (유방암 데이터)"
   ]
  },
  {
   "cell_type": "code",
   "execution_count": null,
   "metadata": {},
   "outputs": [],
   "source": [
    "from sklearn.datasets import load_breast_cancer\n",
    "breast = load_breast_cancer()\n",
    "breast"
   ]
  },
  {
   "cell_type": "code",
   "execution_count": null,
   "metadata": {},
   "outputs": [],
   "source": [
    "print(breast.keys())\n",
    "print(breast.DESCR)"
   ]
  },
  {
   "cell_type": "code",
   "execution_count": null,
   "metadata": {},
   "outputs": [],
   "source": [
    "import pandas as pd \n",
    "\n",
    "breast_df = pd.DataFrame(breast.data, columns=breast.feature_names)\n",
    "breast_df.head()"
   ]
  },
  {
   "cell_type": "code",
   "execution_count": null,
   "metadata": {},
   "outputs": [],
   "source": [
    "breast.target"
   ]
  },
  {
   "cell_type": "code",
   "execution_count": null,
   "metadata": {},
   "outputs": [],
   "source": [
    "# 데이터셋 분리\n",
    "\n",
    "from sklearn.model_selection import train_test_split\n",
    "\n",
    "x_train, x_test, y_train, y_test = train_test_split(breast.data, breast.target, \n",
    "                                                    test_size=0.2, random_state=1, stratify = breast.target)\n",
    "# stratify : stratify 값을 target으로 지정해주면 각각의 class 비율(ratio)을 train / validation 유지. 한 쪽에 쏠려서 분배되는 것을 방지 \n",
    "# 분할된 샘플의 class 갯수가 동일한 비율로 유지"
   ]
  },
  {
   "cell_type": "code",
   "execution_count": null,
   "metadata": {},
   "outputs": [],
   "source": [
    "x_train.shape, x_test.shape, y_train.shape, y_test.shape # 특징 30개 "
   ]
  },
  {
   "cell_type": "code",
   "execution_count": null,
   "metadata": {},
   "outputs": [],
   "source": [
    "# 모델 생성\n",
    "\n",
    "from sklearn.linear_model import LogisticRegression\n",
    "\n",
    "model = LogisticRegression(solver='lbfgs', # 최적화에 사용할 알고리즘 설정\n",
    "                           multi_class='auto', \n",
    "                           C = 100, # 규칙 강도의 역수 값(높은 C를 설정할수록, 낮은 강도의 제약조건, 강한 규제)\n",
    "                           random_state=1)\n",
    "model.fit(x_train, y_train)\n"
   ]
  },
  {
   "cell_type": "code",
   "execution_count": null,
   "metadata": {},
   "outputs": [],
   "source": [
    "print(f'Train Data Score: {model.score(x_train, y_train)}')\n",
    "print(f'Test Data Score: {model.score(x_test, y_test)}')"
   ]
  },
  {
   "cell_type": "code",
   "execution_count": null,
   "metadata": {},
   "outputs": [],
   "source": [
    "import multiprocessing\n",
    "from sklearn.model_selection import GridSearchCV\n",
    "\n",
    "# 파라미터 후보\n",
    "param_grid = [{'penalty' : ['l1', 'l2'],\n",
    "               'C' : [2, 2.2, 2.4, 2.6, 2.8]}]\n",
    "\n",
    "# 그리드 서치 진행\n",
    "gs = GridSearchCV(estimator = LogisticRegression(), param_grid = param_grid,\n",
    "                  scoring = 'accuracy', cv = 10, n_jobs = multiprocessing.cpu_count())\n",
    "gs"
   ]
  },
  {
   "cell_type": "code",
   "execution_count": null,
   "metadata": {},
   "outputs": [],
   "source": [
    "result = gs.fit(breast.data, breast.target)"
   ]
  },
  {
   "cell_type": "code",
   "execution_count": null,
   "metadata": {},
   "outputs": [],
   "source": [
    "print(gs.best_estimator_)\n",
    "\n",
    "print('Best Score: {}'.format(gs.best_score_))\n",
    "print('Best Parameter: {}'.format(gs.best_params_))\n",
    "pd.DataFrame(result.cv_results_)"
   ]
  }
 ],
 "metadata": {
  "kernelspec": {
   "display_name": "Python 3",
   "language": "python",
   "name": "python3"
  },
  "language_info": {
   "name": "python",
   "version": "3.11.0 (main, Oct 24 2022, 18:26:48) [MSC v.1933 64 bit (AMD64)]"
  },
  "orig_nbformat": 4,
  "vscode": {
   "interpreter": {
    "hash": "c261aea317cc0286b3b3261fbba9abdec21eaa57589985bb7a274bf54d6cc0a7"
   }
  }
 },
 "nbformat": 4,
 "nbformat_minor": 2
}
