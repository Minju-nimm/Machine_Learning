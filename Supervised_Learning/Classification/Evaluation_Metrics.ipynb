{
 "cells": [
  {
   "attachments": {},
   "cell_type": "markdown",
   "metadata": {},
   "source": [
    "# [ 모델 성능 평가지표 ]\n",
    "- 실제값과 예측값을 비교해서 모델의 성능을 측정하는 것\n",
    "  \n",
    "- 머신러닝은 데이터 가공/변환, 모델 학습/예측, 평가(Evaluation)의 과정으로 구성된다. 여러가지 방법으로 예측 성능을 평가할 수 있는데, 성능 평가 지표는 분류모델 vs. 회귀모델에 따라 여러 종류로 나뉜다.\n",
    "    - 회귀 : 실제값과 예측값의 오차 평균에 기반\n",
    "<br><br/>\n",
    "- 이진분류에서는 정확도보다 다른 성능 평가 지표가 더 중요시 되는 경우가 많음\n",
    "\n",
    "- 모델 평가 목적? : Overfitting을 방지하고 최적의 모델을 찾기 위해"
   ]
  },
  {
   "cell_type": "markdown",
   "metadata": {},
   "source": [
    "## 분류문제 성능 측정\n",
    "- 실제값과 예측값이 일치하는 갯수를 통해 측정\n",
    "\n",
    "![](https://codetorial.net/tensorflow/_images/MNIST_sample.png)"
   ]
  },
  {
   "cell_type": "code",
   "execution_count": 2,
   "metadata": {},
   "outputs": [],
   "source": [
    "from sklearn.datasets import load_digits\n",
    "digits = load_digits()"
   ]
  },
  {
   "cell_type": "code",
   "execution_count": 4,
   "metadata": {},
   "outputs": [
    {
     "data": {
      "text/plain": [
       "(1797, 64)"
      ]
     },
     "execution_count": 4,
     "metadata": {},
     "output_type": "execute_result"
    }
   ],
   "source": [
    "digits.data.shape # 8 x 8 크기의 이미지가 Flatten 되어있음"
   ]
  },
  {
   "cell_type": "code",
   "execution_count": 5,
   "metadata": {},
   "outputs": [
    {
     "data": {
      "text/plain": [
       "{0, 1, 2, 3, 4, 5, 6, 7, 8, 9}"
      ]
     },
     "execution_count": 5,
     "metadata": {},
     "output_type": "execute_result"
    }
   ],
   "source": [
    "set(digits.target) # 타겟 중복값 제거한 후 값 확인"
   ]
  },
  {
   "cell_type": "code",
   "execution_count": 6,
   "metadata": {},
   "outputs": [
    {
     "data": {
      "text/plain": [
       "(1797,)"
      ]
     },
     "execution_count": 6,
     "metadata": {},
     "output_type": "execute_result"
    }
   ],
   "source": [
    "digits.target.shape"
   ]
  },
  {
   "cell_type": "code",
   "execution_count": 8,
   "metadata": {},
   "outputs": [
    {
     "data": {
      "image/png": "[encoded data removed]",
      "text/plain": [
       "<Figure size 640x480 with 4 Axes>"
      ]
     },
     "metadata": {},
     "output_type": "display_data"
    }
   ],
   "source": [
    "import matplotlib.pyplot as plt\n",
    "\n",
    "fig,ax = plt.subplots(2,2)\n",
    "ax[0,0].imshow(digits.data[0].reshape(8,8),cmap=\"gray\")\n",
    "ax[0,1].imshow(digits.data[1].reshape(8,8),cmap=\"gray\")\n",
    "ax[1,0].imshow(digits.data[2].reshape(8,8),cmap=\"gray\")\n",
    "ax[1,1].imshow(digits.data[3].reshape(8,8),cmap=\"gray\")\n",
    "plt.show()"
   ]
  },
  {
   "cell_type": "code",
   "execution_count": 9,
   "metadata": {},
   "outputs": [
    {
     "data": {
      "text/plain": [
       "0.1018363939899833"
      ]
     },
     "execution_count": 9,
     "metadata": {},
     "output_type": "execute_result"
    }
   ],
   "source": [
    "# 5를 맞추는 문제로 재정의\n",
    "\n",
    "data = digits.data\n",
    "target = (digits.target == 3).astype(int)\n",
    "target.mean()"
   ]
  },
  {
   "cell_type": "code",
   "execution_count": 10,
   "metadata": {},
   "outputs": [
    {
     "data": {
      "text/plain": [
       "((1347, 64), (450, 64), (1347,), (450,))"
      ]
     },
     "execution_count": 10,
     "metadata": {},
     "output_type": "execute_result"
    }
   ],
   "source": [
    "# 데이터셋 분리\n",
    "from sklearn.model_selection import train_test_split\n",
    "x_train, x_test, y_train, y_test = train_test_split(data, target)\n",
    "x_train.shape,x_test.shape,y_train.shape,y_test.shape "
   ]
  },
  {
   "cell_type": "code",
   "execution_count": 11,
   "metadata": {},
   "outputs": [
    {
     "data": {
      "text/plain": [
       "(0.10022271714922049, 0.10666666666666667)"
      ]
     },
     "execution_count": 11,
     "metadata": {},
     "output_type": "execute_result"
    }
   ],
   "source": [
    "y_train.mean(), y_test.mean() # 둘다 10"
   ]
  },
  {
   "cell_type": "markdown",
   "metadata": {},
   "source": [
    "---"
   ]
  },
  {
   "cell_type": "markdown",
   "metadata": {},
   "source": [
    "## Confusion Matrix (혼동행렬, 오차행렬)\n",
    "- 이진 분류 평가 결과를 나타낼 때 가장 널리 사용하는 방법 중 하나\n",
    "\n",
    "<img src = \"https://plat.ai/wp-content/uploads/Table1-2.png.webp\" width=\"580\" height=\"450\"/>"
   ]
  },
  {
   "cell_type": "code",
   "execution_count": null,
   "metadata": {},
   "outputs": [],
   "source": []
  },
  {
   "cell_type": "markdown",
   "metadata": {},
   "source": [
    "### Precision (정밀도)\n",
    "- 모델이 True라고 분류한 것 중, 실제로 True인 것의 비율"
   ]
  },
  {
   "cell_type": "markdown",
   "metadata": {},
   "source": [
    "### Recall (재현율)\n",
    "- 실제 True인 것 중, 모델이 True라고 예측한 것의 비율\n",
    "- 암기 tip?) 모델이 True라고 잘 '재현'한 것 -> 재현율 "
   ]
  },
  {
   "cell_type": "code",
   "execution_count": null,
   "metadata": {},
   "outputs": [],
   "source": []
  },
  {
   "cell_type": "markdown",
   "metadata": {},
   "source": [
    "### Precision(정밀도) - Recall(재현율) 곡선\n",
    "- 정밀도/재현율 트레이드 오프 (반비례 관계)"
   ]
  },
  {
   "cell_type": "markdown",
   "metadata": {},
   "source": [
    "### F1-score"
   ]
  },
  {
   "cell_type": "code",
   "execution_count": null,
   "metadata": {},
   "outputs": [],
   "source": []
  },
  {
   "cell_type": "markdown",
   "metadata": {},
   "source": [
    "### Accuracy (정확도)\n",
    "\n",
    "$$\\text{accuracy} = \\frac{\\text{정확히 예측한 수}}{\\text{전체 샘플 수}} = \\frac{TP + TN}{TP+FN+FP+TN}$$"
   ]
  },
  {
   "cell_type": "markdown",
   "metadata": {},
   "source": [
    "### ROC Curve (Receiver Operating Characteristic Curve)\n",
    "- FPR을 X축으로, TPR을 Y축으로 한 그래프\n",
    "    - FPR = FP / (FP+TN)\n",
    "    - TPR = TP / (FN+TP)"
   ]
  },
  {
   "cell_type": "markdown",
   "metadata": {},
   "source": [
    "### AUROC (ROC AUC)"
   ]
  }
 ],
 "metadata": {
  "kernelspec": {
   "display_name": "Python 3",
   "language": "python",
   "name": "python3"
  },
  "language_info": {
   "codemirror_mode": {
    "name": "ipython",
    "version": 3
   },
   "file_extension": ".py",
   "mimetype": "text/x-python",
   "name": "python",
   "nbconvert_exporter": "python",
   "pygments_lexer": "ipython3",
   "version": "3.11.0 (main, Oct 24 2022, 18:26:48) [MSC v.1933 64 bit (AMD64)]"
  },
  "orig_nbformat": 4,
  "vscode": {
   "interpreter": {
    "hash": "c261aea317cc0286b3b3261fbba9abdec21eaa57589985bb7a274bf54d6cc0a7"
   }
  }
 },
 "nbformat": 4,
 "nbformat_minor": 2
}
