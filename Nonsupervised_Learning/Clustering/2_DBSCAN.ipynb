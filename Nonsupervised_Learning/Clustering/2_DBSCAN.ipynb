{
 "cells": [
  {
   "cell_type": "markdown",
   "metadata": {},
   "source": [
    "# DBSCAN (밀도기반 클러스터링)\n",
    "- Density Based Spatial Clustering of Application with Noise)\n",
    "\n",
    "## 장점\n",
    "- 간단하고 직관적인 알고리즘이지만, 데이터 분포가 기하학적으로 복잡한 데이터 세트에도 효과적인 군집화 가능\n",
    "    - 특정 공간 내 데이터 밀도 차이를 기반 알고리즘으로 하고 있기 때문\n"
   ]
  },
  {
   "cell_type": "code",
   "execution_count": null,
   "metadata": {},
   "outputs": [],
   "source": []
  },
  {
   "cell_type": "markdown",
   "metadata": {},
   "source": [
    "## DBSCAN을 구성하는 주요 파라미터\n",
    "### 1) eps \n",
    "- epsilon(입실론) : 개별 데이터를 중심으로 입실론 반경을 가지는 원형의 영역\n",
    "\n",
    "### 2) min_samples \n",
    "- min points(최소 데이터 개수) : \n",
    "\n",
    "### "
   ]
  },
  {
   "cell_type": "code",
   "execution_count": null,
   "metadata": {},
   "outputs": [],
   "source": []
  },
  {
   "cell_type": "markdown",
   "metadata": {},
   "source": [
    "---"
   ]
  },
  {
   "cell_type": "markdown",
   "metadata": {},
   "source": [
    "# Exercise : iris 데이터에 DBSCAN 적용"
   ]
  },
  {
   "cell_type": "code",
   "execution_count": null,
   "metadata": {},
   "outputs": [],
   "source": [
    "from sklearn.cluster import DBSCAN\n"
   ]
  }
 ],
 "metadata": {
  "kernelspec": {
   "display_name": "Python 3.10.9 64-bit (microsoft store)",
   "language": "python",
   "name": "python3"
  },
  "language_info": {
   "name": "python",
   "version": "3.10.9"
  },
  "orig_nbformat": 4,
  "vscode": {
   "interpreter": {
    "hash": "0df79a5982cc5a70553c602a5d43d4cb06524f7080da494cbafac53b4237f0a3"
   }
  }
 },
 "nbformat": 4,
 "nbformat_minor": 2
}
