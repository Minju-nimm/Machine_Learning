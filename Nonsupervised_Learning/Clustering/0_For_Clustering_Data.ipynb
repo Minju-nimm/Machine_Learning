{
 "cells": [
  {
   "attachments": {},
   "cell_type": "markdown",
   "metadata": {},
   "source": [
    "# 군집화 알고리즘 테스트를 위한 데이터 생성\n",
    "- 대표적인 군집화용 데이터 생성기로는 make_blobs(), make_classification() API가 있음\n",
    "- sklearn.datasets 모듈\n",
    "  \n",
    "## 1. make_blobs()\n",
    "- 개별 군집의 중심점과 표준 편차 제어 기능 추가되어있음\n",
    "- 호출 시 feature 데이터 세트와 target 데이터 세트가 튜플로 반환"
   ]
  },
  {
   "cell_type": "code",
   "execution_count": null,
   "metadata": {},
   "outputs": [],
   "source": []
  }
 ],
 "metadata": {
  "kernelspec": {
   "display_name": "Python 3",
   "language": "python",
   "name": "python3"
  },
  "language_info": {
   "name": "python",
   "version": "3.11.0 (main, Oct 24 2022, 18:26:48) [MSC v.1933 64 bit (AMD64)]"
  },
  "orig_nbformat": 4,
  "vscode": {
   "interpreter": {
    "hash": "c261aea317cc0286b3b3261fbba9abdec21eaa57589985bb7a274bf54d6cc0a7"
   }
  }
 },
 "nbformat": 4,
 "nbformat_minor": 2
}
