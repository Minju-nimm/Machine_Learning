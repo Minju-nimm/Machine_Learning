{
 "cells": [
  {
   "cell_type": "markdown",
   "metadata": {},
   "source": [
    "# 지도학습 vs. 비지도 학습\n",
    "\n",
    "\n",
    "## 비지도학습\n",
    "- 레이블 X\n",
    "- 알고있는 출력값이나 정보 없이 학습 알고리즘을 가르쳐야 하는 모든 종류의 머신러닝\n",
    "- 비지도 학습에서 학습 알고리즘은 <u>입력 데이터만으로 데이터에서 지식을 추출할 수 있어야함</u>\n",
    "     \n",
    "- AI 에이전트 작업이 명확히 정의되지 않으므로, 모델 성능을 명확히 측정할 수 없음 (성능을 측정할 기준이 없기 때문)\n",
    "- 하지만, 데이터를 분석하고 중요한 Feature를 찾아낼 수 있음"
   ]
  },
  {
   "cell_type": "markdown",
   "metadata": {},
   "source": [
    "---"
   ]
  },
  {
   "cell_type": "markdown",
   "metadata": {},
   "source": [
    "# 비지도 학습을 사용한 문제점 해결\n",
    "\n",
    "## 1) 차원의 저주\n",
    "- 많은 경우 머신러닝 문제는 훈렴 샘플이 수천, 수백만 개의 특성을 가지고 있다. 많은 특성은 훈련 자체를 느리게 할 뿐만 아니라, 좋은 솔루션을 찾기 어렵게 만든다.\n",
    "- 차원이 증가할수록 데이터 분포 분석, 모델 추정에 필요한 샘플 데이터 개수가 기하급수적으로 증가하게 되는데 이러한 어려움을 표현한 단어를 차원의 저주라고 한다.\n",
    "- Feature의 수가 많을 때 최적 해를 구하는 함수 근사를 구하는 시간이 늘어나게 된다.\n",
    "\n",
    "## 2) Feature Engineering (피쳐 엔지니어링)\n",
    "\n"
   ]
  },
  {
   "cell_type": "code",
   "execution_count": null,
   "metadata": {},
   "outputs": [],
   "source": []
  }
 ],
 "metadata": {
  "kernelspec": {
   "display_name": "Python 3.10.9 64-bit (microsoft store)",
   "language": "python",
   "name": "python3"
  },
  "language_info": {
   "name": "python",
   "version": "3.10.9"
  },
  "orig_nbformat": 4,
  "vscode": {
   "interpreter": {
    "hash": "0df79a5982cc5a70553c602a5d43d4cb06524f7080da494cbafac53b4237f0a3"
   }
  }
 },
 "nbformat": 4,
 "nbformat_minor": 2
}
