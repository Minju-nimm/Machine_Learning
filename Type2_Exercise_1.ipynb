{
 "cells": [
  {
   "attachments": {},
   "cell_type": "markdown",
   "id": "1e111391",
   "metadata": {},
   "source": [
    "# Exercise : 서비스 이탈예측 데이터(Classification)\n",
    "- 출처 : https://www.datamanim.com/dataset/03_dataq/typetwo.html#id3\n",
    "\n",
    "- 데이터 설명 : 고객의 신상정보 데이터를 통한 회사 서비스 이탈 예측 (종속변수 : Exited)\n",
    "- 데이터 출처 : https://www.kaggle.com/shubh0799/churn-modelling 에서 변형\n",
    "  \n",
    "- X_train : https://raw.githubusercontent.com/Datamanim/datarepo/main/churnk/X_train.csv\n",
    "- y_train : https://raw.githubusercontent.com/Datamanim/datarepo/main/churnk/y_train.csv\n",
    "- X_test : https://raw.githubusercontent.com/Datamanim/datarepo/main/churnk/X_test.csv\n",
    "- y_test(평가용) : https://raw.githubusercontent.com/Datamanim/datarepo/main/churnk/y_test.csv"
   ]
  },
  {
   "cell_type": "markdown",
   "id": "93a55f34",
   "metadata": {},
   "source": [
    "---"
   ]
  },
  {
   "cell_type": "code",
   "execution_count": 1,
   "id": "73770667",
   "metadata": {
    "_cell_guid": "b1076dfc-b9ad-4769-8c92-a6c4dae69d19",
    "_uuid": "8f2839f25d086af736a60e9eeb907d3b93b6e0e5",
    "execution": {
     "iopub.execute_input": "2022-12-28T06:27:12.837188Z",
     "iopub.status.busy": "2022-12-28T06:27:12.836737Z",
     "iopub.status.idle": "2022-12-28T06:27:12.856175Z",
     "shell.execute_reply": "2022-12-28T06:27:12.854930Z"
    },
    "papermill": {
     "duration": 0.031734,
     "end_time": "2022-12-28T06:27:12.859150",
     "exception": false,
     "start_time": "2022-12-28T06:27:12.827416",
     "status": "completed"
    },
    "tags": []
   },
   "outputs": [],
   "source": [
    "# This Python 3 environment comes with many helpful analytics libraries installed\n",
    "# It is defined by the kaggle/python Docker image: https://github.com/kaggle/docker-python\n",
    "# For example, here's several helpful packages to load\n",
    "\n",
    "import numpy as np # linear algebra\n",
    "import pandas as pd # data processing, CSV file I/O (e.g. pd.read_csv)\n",
    "\n",
    "# Input data files are available in the read-only \"../input/\" directory\n",
    "# For example, running this (by clicking run or pressing Shift+Enter) will list all files under the input directory\n",
    "\n",
    "import os\n",
    "for dirname, _, filenames in os.walk('/kaggle/input'):\n",
    "    for filename in filenames:\n",
    "        print(os.path.join(dirname, filename))\n",
    "\n",
    "# You can write up to 20GB to the current directory (/kaggle/working/) that gets preserved as output when you create a version using \"Save & Run All\" \n",
    "# You can also write temporary files to /kaggle/temp/, but they won't be saved outside of the current session"
   ]
  },
  {
   "cell_type": "markdown",
   "id": "1f9419e3",
   "metadata": {
    "papermill": {
     "duration": 0.005901,
     "end_time": "2022-12-28T06:27:12.871343",
     "exception": false,
     "start_time": "2022-12-28T06:27:12.865442",
     "status": "completed"
    },
    "tags": []
   },
   "source": [
    "# 1. Data Load & EDA"
   ]
  },
  {
   "cell_type": "code",
   "execution_count": 2,
   "id": "7a440581",
   "metadata": {
    "execution": {
     "iopub.execute_input": "2022-12-28T06:27:12.884868Z",
     "iopub.status.busy": "2022-12-28T06:27:12.884482Z",
     "iopub.status.idle": "2022-12-28T06:27:12.947833Z",
     "shell.execute_reply": "2022-12-28T06:27:12.946601Z"
    },
    "papermill": {
     "duration": 0.073199,
     "end_time": "2022-12-28T06:27:12.950519",
     "exception": false,
     "start_time": "2022-12-28T06:27:12.877320",
     "status": "completed"
    },
    "tags": []
   },
   "outputs": [],
   "source": [
    "import pandas as pd\n",
    "\n",
    "X_train = pd.read_csv(\"https://raw.githubusercontent.com/Datamanim/datarepo/main/churnk/X_train.csv\")\n",
    "y_train = pd.read_csv(\"https://raw.githubusercontent.com/Datamanim/datarepo/main/churnk/y_train.csv\")\n",
    "X_test= pd.read_csv(\"https://raw.githubusercontent.com/Datamanim/datarepo/main/churnk/X_test.csv\")\n",
    "y_test = pd.read_csv(\"https://raw.githubusercontent.com/Datamanim/datarepo/main/churnk/y_test.csv\")"
   ]
  },
  {
   "cell_type": "code",
   "execution_count": 3,
   "id": "e6eb0171",
   "metadata": {
    "execution": {
     "iopub.execute_input": "2022-12-28T06:27:12.964596Z",
     "iopub.status.busy": "2022-12-28T06:27:12.963746Z",
     "iopub.status.idle": "2022-12-28T06:27:12.999089Z",
     "shell.execute_reply": "2022-12-28T06:27:12.997887Z"
    },
    "papermill": {
     "duration": 0.045013,
     "end_time": "2022-12-28T06:27:13.001616",
     "exception": false,
     "start_time": "2022-12-28T06:27:12.956603",
     "status": "completed"
    },
    "tags": []
   },
   "outputs": [
    {
     "data": {
      "text/html": [
       "<div>\n",
       "<style scoped>\n",
       "    .dataframe tbody tr th:only-of-type {\n",
       "        vertical-align: middle;\n",
       "    }\n",
       "\n",
       "    .dataframe tbody tr th {\n",
       "        vertical-align: top;\n",
       "    }\n",
       "\n",
       "    .dataframe thead th {\n",
       "        text-align: right;\n",
       "    }\n",
       "</style>\n",
       "<table border=\"1\" class=\"dataframe\">\n",
       "  <thead>\n",
       "    <tr style=\"text-align: right;\">\n",
       "      <th></th>\n",
       "      <th>CustomerId</th>\n",
       "      <th>Surname</th>\n",
       "      <th>CreditScore</th>\n",
       "      <th>Geography</th>\n",
       "      <th>Gender</th>\n",
       "      <th>Age</th>\n",
       "      <th>Tenure</th>\n",
       "      <th>Balance</th>\n",
       "      <th>NumOfProducts</th>\n",
       "      <th>HasCrCard</th>\n",
       "      <th>IsActiveMember</th>\n",
       "      <th>EstimatedSalary</th>\n",
       "    </tr>\n",
       "  </thead>\n",
       "  <tbody>\n",
       "    <tr>\n",
       "      <th>0</th>\n",
       "      <td>15799217</td>\n",
       "      <td>Zetticci</td>\n",
       "      <td>791</td>\n",
       "      <td>Germany</td>\n",
       "      <td>Female</td>\n",
       "      <td>35</td>\n",
       "      <td>7</td>\n",
       "      <td>52436.20</td>\n",
       "      <td>1</td>\n",
       "      <td>1</td>\n",
       "      <td>0</td>\n",
       "      <td>161051.75</td>\n",
       "    </tr>\n",
       "    <tr>\n",
       "      <th>1</th>\n",
       "      <td>15748986</td>\n",
       "      <td>Bischof</td>\n",
       "      <td>705</td>\n",
       "      <td>Germany</td>\n",
       "      <td>Male</td>\n",
       "      <td>42</td>\n",
       "      <td>8</td>\n",
       "      <td>166685.92</td>\n",
       "      <td>2</td>\n",
       "      <td>1</td>\n",
       "      <td>1</td>\n",
       "      <td>55313.51</td>\n",
       "    </tr>\n",
       "    <tr>\n",
       "      <th>2</th>\n",
       "      <td>15722004</td>\n",
       "      <td>Hsiung</td>\n",
       "      <td>543</td>\n",
       "      <td>France</td>\n",
       "      <td>Female</td>\n",
       "      <td>31</td>\n",
       "      <td>4</td>\n",
       "      <td>138317.94</td>\n",
       "      <td>1</td>\n",
       "      <td>0</td>\n",
       "      <td>0</td>\n",
       "      <td>61843.73</td>\n",
       "    </tr>\n",
       "    <tr>\n",
       "      <th>3</th>\n",
       "      <td>15780966</td>\n",
       "      <td>Pritchard</td>\n",
       "      <td>709</td>\n",
       "      <td>France</td>\n",
       "      <td>Female</td>\n",
       "      <td>32</td>\n",
       "      <td>2</td>\n",
       "      <td>0.00</td>\n",
       "      <td>2</td>\n",
       "      <td>0</td>\n",
       "      <td>0</td>\n",
       "      <td>109681.29</td>\n",
       "    </tr>\n",
       "    <tr>\n",
       "      <th>4</th>\n",
       "      <td>15636731</td>\n",
       "      <td>Ts'ai</td>\n",
       "      <td>714</td>\n",
       "      <td>Germany</td>\n",
       "      <td>Female</td>\n",
       "      <td>36</td>\n",
       "      <td>1</td>\n",
       "      <td>101609.01</td>\n",
       "      <td>2</td>\n",
       "      <td>1</td>\n",
       "      <td>1</td>\n",
       "      <td>447.73</td>\n",
       "    </tr>\n",
       "  </tbody>\n",
       "</table>\n",
       "</div>"
      ],
      "text/plain": [
       "   CustomerId    Surname  CreditScore Geography  Gender  Age  Tenure  \\\n",
       "0    15799217   Zetticci          791   Germany  Female   35       7   \n",
       "1    15748986    Bischof          705   Germany    Male   42       8   \n",
       "2    15722004     Hsiung          543    France  Female   31       4   \n",
       "3    15780966  Pritchard          709    France  Female   32       2   \n",
       "4    15636731      Ts'ai          714   Germany  Female   36       1   \n",
       "\n",
       "     Balance  NumOfProducts  HasCrCard  IsActiveMember  EstimatedSalary  \n",
       "0   52436.20              1          1               0        161051.75  \n",
       "1  166685.92              2          1               1         55313.51  \n",
       "2  138317.94              1          0               0         61843.73  \n",
       "3       0.00              2          0               0        109681.29  \n",
       "4  101609.01              2          1               1           447.73  "
      ]
     },
     "metadata": {},
     "output_type": "display_data"
    },
    {
     "data": {
      "text/html": [
       "<div>\n",
       "<style scoped>\n",
       "    .dataframe tbody tr th:only-of-type {\n",
       "        vertical-align: middle;\n",
       "    }\n",
       "\n",
       "    .dataframe tbody tr th {\n",
       "        vertical-align: top;\n",
       "    }\n",
       "\n",
       "    .dataframe thead th {\n",
       "        text-align: right;\n",
       "    }\n",
       "</style>\n",
       "<table border=\"1\" class=\"dataframe\">\n",
       "  <thead>\n",
       "    <tr style=\"text-align: right;\">\n",
       "      <th></th>\n",
       "      <th>CustomerId</th>\n",
       "      <th>Exited</th>\n",
       "    </tr>\n",
       "  </thead>\n",
       "  <tbody>\n",
       "    <tr>\n",
       "      <th>0</th>\n",
       "      <td>15799217</td>\n",
       "      <td>0</td>\n",
       "    </tr>\n",
       "    <tr>\n",
       "      <th>1</th>\n",
       "      <td>15748986</td>\n",
       "      <td>0</td>\n",
       "    </tr>\n",
       "    <tr>\n",
       "      <th>2</th>\n",
       "      <td>15722004</td>\n",
       "      <td>0</td>\n",
       "    </tr>\n",
       "    <tr>\n",
       "      <th>3</th>\n",
       "      <td>15780966</td>\n",
       "      <td>0</td>\n",
       "    </tr>\n",
       "    <tr>\n",
       "      <th>4</th>\n",
       "      <td>15636731</td>\n",
       "      <td>0</td>\n",
       "    </tr>\n",
       "  </tbody>\n",
       "</table>\n",
       "</div>"
      ],
      "text/plain": [
       "   CustomerId  Exited\n",
       "0    15799217       0\n",
       "1    15748986       0\n",
       "2    15722004       0\n",
       "3    15780966       0\n",
       "4    15636731       0"
      ]
     },
     "metadata": {},
     "output_type": "display_data"
    }
   ],
   "source": [
    "display(X_train.head())\n",
    "display(y_train.head())"
   ]
  },
  {
   "cell_type": "code",
   "execution_count": 4,
   "id": "db1d82de",
   "metadata": {
    "execution": {
     "iopub.execute_input": "2022-12-28T06:27:13.016655Z",
     "iopub.status.busy": "2022-12-28T06:27:13.015999Z",
     "iopub.status.idle": "2022-12-28T06:27:13.042735Z",
     "shell.execute_reply": "2022-12-28T06:27:13.041264Z"
    },
    "papermill": {
     "duration": 0.037277,
     "end_time": "2022-12-28T06:27:13.045379",
     "exception": false,
     "start_time": "2022-12-28T06:27:13.008102",
     "status": "completed"
    },
    "tags": []
   },
   "outputs": [
    {
     "name": "stdout",
     "output_type": "stream",
     "text": [
      "<class 'pandas.core.frame.DataFrame'>\n",
      "RangeIndex: 6499 entries, 0 to 6498\n",
      "Data columns (total 12 columns):\n",
      " #   Column           Non-Null Count  Dtype  \n",
      "---  ------           --------------  -----  \n",
      " 0   CustomerId       6499 non-null   int64  \n",
      " 1   Surname          6499 non-null   object \n",
      " 2   CreditScore      6499 non-null   int64  \n",
      " 3   Geography        6499 non-null   object \n",
      " 4   Gender           6499 non-null   object \n",
      " 5   Age              6499 non-null   int64  \n",
      " 6   Tenure           6499 non-null   int64  \n",
      " 7   Balance          6499 non-null   float64\n",
      " 8   NumOfProducts    6499 non-null   int64  \n",
      " 9   HasCrCard        6499 non-null   int64  \n",
      " 10  IsActiveMember   6499 non-null   int64  \n",
      " 11  EstimatedSalary  6499 non-null   float64\n",
      "dtypes: float64(2), int64(7), object(3)\n",
      "memory usage: 609.4+ KB\n"
     ]
    }
   ],
   "source": [
    "X_train.info()"
   ]
  },
  {
   "cell_type": "code",
   "execution_count": 5,
   "id": "1f185aa4",
   "metadata": {
    "execution": {
     "iopub.execute_input": "2022-12-28T06:27:13.060812Z",
     "iopub.status.busy": "2022-12-28T06:27:13.060276Z",
     "iopub.status.idle": "2022-12-28T06:27:13.132927Z",
     "shell.execute_reply": "2022-12-28T06:27:13.131674Z"
    },
    "papermill": {
     "duration": 0.083296,
     "end_time": "2022-12-28T06:27:13.135405",
     "exception": false,
     "start_time": "2022-12-28T06:27:13.052109",
     "status": "completed"
    },
    "tags": []
   },
   "outputs": [
    {
     "data": {
      "text/html": [
       "<div>\n",
       "<style scoped>\n",
       "    .dataframe tbody tr th:only-of-type {\n",
       "        vertical-align: middle;\n",
       "    }\n",
       "\n",
       "    .dataframe tbody tr th {\n",
       "        vertical-align: top;\n",
       "    }\n",
       "\n",
       "    .dataframe thead th {\n",
       "        text-align: right;\n",
       "    }\n",
       "</style>\n",
       "<table border=\"1\" class=\"dataframe\">\n",
       "  <thead>\n",
       "    <tr style=\"text-align: right;\">\n",
       "      <th></th>\n",
       "      <th>CustomerId</th>\n",
       "      <th>CreditScore</th>\n",
       "      <th>Age</th>\n",
       "      <th>Tenure</th>\n",
       "      <th>Balance</th>\n",
       "      <th>NumOfProducts</th>\n",
       "      <th>HasCrCard</th>\n",
       "      <th>IsActiveMember</th>\n",
       "      <th>EstimatedSalary</th>\n",
       "    </tr>\n",
       "  </thead>\n",
       "  <tbody>\n",
       "    <tr>\n",
       "      <th>count</th>\n",
       "      <td>6.499000e+03</td>\n",
       "      <td>6499.000000</td>\n",
       "      <td>6499.000000</td>\n",
       "      <td>6499.000000</td>\n",
       "      <td>6499.000000</td>\n",
       "      <td>6499.000000</td>\n",
       "      <td>6499.000000</td>\n",
       "      <td>6499.000000</td>\n",
       "      <td>6499.000000</td>\n",
       "    </tr>\n",
       "    <tr>\n",
       "      <th>mean</th>\n",
       "      <td>1.569157e+07</td>\n",
       "      <td>650.396830</td>\n",
       "      <td>38.957070</td>\n",
       "      <td>5.041545</td>\n",
       "      <td>76836.581068</td>\n",
       "      <td>1.519772</td>\n",
       "      <td>0.708878</td>\n",
       "      <td>0.514387</td>\n",
       "      <td>100346.564524</td>\n",
       "    </tr>\n",
       "    <tr>\n",
       "      <th>std</th>\n",
       "      <td>7.187584e+04</td>\n",
       "      <td>96.618957</td>\n",
       "      <td>10.502803</td>\n",
       "      <td>2.891779</td>\n",
       "      <td>62407.570894</td>\n",
       "      <td>0.578975</td>\n",
       "      <td>0.454314</td>\n",
       "      <td>0.499831</td>\n",
       "      <td>57944.655305</td>\n",
       "    </tr>\n",
       "    <tr>\n",
       "      <th>min</th>\n",
       "      <td>1.556570e+07</td>\n",
       "      <td>350.000000</td>\n",
       "      <td>18.000000</td>\n",
       "      <td>0.000000</td>\n",
       "      <td>0.000000</td>\n",
       "      <td>1.000000</td>\n",
       "      <td>0.000000</td>\n",
       "      <td>0.000000</td>\n",
       "      <td>11.580000</td>\n",
       "    </tr>\n",
       "    <tr>\n",
       "      <th>25%</th>\n",
       "      <td>1.562949e+07</td>\n",
       "      <td>584.000000</td>\n",
       "      <td>32.000000</td>\n",
       "      <td>3.000000</td>\n",
       "      <td>0.000000</td>\n",
       "      <td>1.000000</td>\n",
       "      <td>0.000000</td>\n",
       "      <td>0.000000</td>\n",
       "      <td>50907.565000</td>\n",
       "    </tr>\n",
       "    <tr>\n",
       "      <th>50%</th>\n",
       "      <td>1.569181e+07</td>\n",
       "      <td>651.000000</td>\n",
       "      <td>37.000000</td>\n",
       "      <td>5.000000</td>\n",
       "      <td>97560.160000</td>\n",
       "      <td>1.000000</td>\n",
       "      <td>1.000000</td>\n",
       "      <td>1.000000</td>\n",
       "      <td>100496.840000</td>\n",
       "    </tr>\n",
       "    <tr>\n",
       "      <th>75%</th>\n",
       "      <td>1.575358e+07</td>\n",
       "      <td>718.000000</td>\n",
       "      <td>44.000000</td>\n",
       "      <td>8.000000</td>\n",
       "      <td>127844.690000</td>\n",
       "      <td>2.000000</td>\n",
       "      <td>1.000000</td>\n",
       "      <td>1.000000</td>\n",
       "      <td>150480.155000</td>\n",
       "    </tr>\n",
       "    <tr>\n",
       "      <th>max</th>\n",
       "      <td>1.581566e+07</td>\n",
       "      <td>850.000000</td>\n",
       "      <td>92.000000</td>\n",
       "      <td>10.000000</td>\n",
       "      <td>238387.560000</td>\n",
       "      <td>4.000000</td>\n",
       "      <td>1.000000</td>\n",
       "      <td>1.000000</td>\n",
       "      <td>199970.740000</td>\n",
       "    </tr>\n",
       "  </tbody>\n",
       "</table>\n",
       "</div>"
      ],
      "text/plain": [
       "         CustomerId  CreditScore          Age       Tenure        Balance  \\\n",
       "count  6.499000e+03  6499.000000  6499.000000  6499.000000    6499.000000   \n",
       "mean   1.569157e+07   650.396830    38.957070     5.041545   76836.581068   \n",
       "std    7.187584e+04    96.618957    10.502803     2.891779   62407.570894   \n",
       "min    1.556570e+07   350.000000    18.000000     0.000000       0.000000   \n",
       "25%    1.562949e+07   584.000000    32.000000     3.000000       0.000000   \n",
       "50%    1.569181e+07   651.000000    37.000000     5.000000   97560.160000   \n",
       "75%    1.575358e+07   718.000000    44.000000     8.000000  127844.690000   \n",
       "max    1.581566e+07   850.000000    92.000000    10.000000  238387.560000   \n",
       "\n",
       "       NumOfProducts    HasCrCard  IsActiveMember  EstimatedSalary  \n",
       "count    6499.000000  6499.000000     6499.000000      6499.000000  \n",
       "mean        1.519772     0.708878        0.514387    100346.564524  \n",
       "std         0.578975     0.454314        0.499831     57944.655305  \n",
       "min         1.000000     0.000000        0.000000        11.580000  \n",
       "25%         1.000000     0.000000        0.000000     50907.565000  \n",
       "50%         1.000000     1.000000        1.000000    100496.840000  \n",
       "75%         2.000000     1.000000        1.000000    150480.155000  \n",
       "max         4.000000     1.000000        1.000000    199970.740000  "
      ]
     },
     "metadata": {},
     "output_type": "display_data"
    },
    {
     "data": {
      "text/html": [
       "<div>\n",
       "<style scoped>\n",
       "    .dataframe tbody tr th:only-of-type {\n",
       "        vertical-align: middle;\n",
       "    }\n",
       "\n",
       "    .dataframe tbody tr th {\n",
       "        vertical-align: top;\n",
       "    }\n",
       "\n",
       "    .dataframe thead th {\n",
       "        text-align: right;\n",
       "    }\n",
       "</style>\n",
       "<table border=\"1\" class=\"dataframe\">\n",
       "  <thead>\n",
       "    <tr style=\"text-align: right;\">\n",
       "      <th></th>\n",
       "      <th>CustomerId</th>\n",
       "      <th>CreditScore</th>\n",
       "      <th>Age</th>\n",
       "      <th>Tenure</th>\n",
       "      <th>Balance</th>\n",
       "      <th>NumOfProducts</th>\n",
       "      <th>HasCrCard</th>\n",
       "      <th>IsActiveMember</th>\n",
       "      <th>EstimatedSalary</th>\n",
       "    </tr>\n",
       "  </thead>\n",
       "  <tbody>\n",
       "    <tr>\n",
       "      <th>count</th>\n",
       "      <td>3.501000e+03</td>\n",
       "      <td>3501.000000</td>\n",
       "      <td>3501.000000</td>\n",
       "      <td>3501.000000</td>\n",
       "      <td>3501.000000</td>\n",
       "      <td>3501.000000</td>\n",
       "      <td>3501.000000</td>\n",
       "      <td>3501.000000</td>\n",
       "      <td>3501.000000</td>\n",
       "    </tr>\n",
       "    <tr>\n",
       "      <th>mean</th>\n",
       "      <td>1.568977e+07</td>\n",
       "      <td>650.773779</td>\n",
       "      <td>38.856327</td>\n",
       "      <td>4.959440</td>\n",
       "      <td>75834.890751</td>\n",
       "      <td>1.549557</td>\n",
       "      <td>0.699229</td>\n",
       "      <td>0.516424</td>\n",
       "      <td>99614.417586</td>\n",
       "    </tr>\n",
       "    <tr>\n",
       "      <th>std</th>\n",
       "      <td>7.204360e+04</td>\n",
       "      <td>96.730345</td>\n",
       "      <td>10.461094</td>\n",
       "      <td>2.892564</td>\n",
       "      <td>62382.215537</td>\n",
       "      <td>0.586187</td>\n",
       "      <td>0.458659</td>\n",
       "      <td>0.499802</td>\n",
       "      <td>56700.884072</td>\n",
       "    </tr>\n",
       "    <tr>\n",
       "      <th>min</th>\n",
       "      <td>1.556571e+07</td>\n",
       "      <td>376.000000</td>\n",
       "      <td>18.000000</td>\n",
       "      <td>0.000000</td>\n",
       "      <td>0.000000</td>\n",
       "      <td>1.000000</td>\n",
       "      <td>0.000000</td>\n",
       "      <td>0.000000</td>\n",
       "      <td>91.750000</td>\n",
       "    </tr>\n",
       "    <tr>\n",
       "      <th>25%</th>\n",
       "      <td>1.562648e+07</td>\n",
       "      <td>583.000000</td>\n",
       "      <td>32.000000</td>\n",
       "      <td>2.000000</td>\n",
       "      <td>0.000000</td>\n",
       "      <td>1.000000</td>\n",
       "      <td>0.000000</td>\n",
       "      <td>0.000000</td>\n",
       "      <td>51229.170000</td>\n",
       "    </tr>\n",
       "    <tr>\n",
       "      <th>50%</th>\n",
       "      <td>1.568917e+07</td>\n",
       "      <td>652.000000</td>\n",
       "      <td>37.000000</td>\n",
       "      <td>5.000000</td>\n",
       "      <td>96196.240000</td>\n",
       "      <td>2.000000</td>\n",
       "      <td>1.000000</td>\n",
       "      <td>1.000000</td>\n",
       "      <td>99770.300000</td>\n",
       "    </tr>\n",
       "    <tr>\n",
       "      <th>75%</th>\n",
       "      <td>1.575260e+07</td>\n",
       "      <td>717.000000</td>\n",
       "      <td>44.000000</td>\n",
       "      <td>7.000000</td>\n",
       "      <td>127286.040000</td>\n",
       "      <td>2.000000</td>\n",
       "      <td>1.000000</td>\n",
       "      <td>1.000000</td>\n",
       "      <td>146411.410000</td>\n",
       "    </tr>\n",
       "    <tr>\n",
       "      <th>max</th>\n",
       "      <td>1.581569e+07</td>\n",
       "      <td>850.000000</td>\n",
       "      <td>85.000000</td>\n",
       "      <td>10.000000</td>\n",
       "      <td>250898.090000</td>\n",
       "      <td>4.000000</td>\n",
       "      <td>1.000000</td>\n",
       "      <td>1.000000</td>\n",
       "      <td>199992.480000</td>\n",
       "    </tr>\n",
       "  </tbody>\n",
       "</table>\n",
       "</div>"
      ],
      "text/plain": [
       "         CustomerId  CreditScore          Age       Tenure        Balance  \\\n",
       "count  3.501000e+03  3501.000000  3501.000000  3501.000000    3501.000000   \n",
       "mean   1.568977e+07   650.773779    38.856327     4.959440   75834.890751   \n",
       "std    7.204360e+04    96.730345    10.461094     2.892564   62382.215537   \n",
       "min    1.556571e+07   376.000000    18.000000     0.000000       0.000000   \n",
       "25%    1.562648e+07   583.000000    32.000000     2.000000       0.000000   \n",
       "50%    1.568917e+07   652.000000    37.000000     5.000000   96196.240000   \n",
       "75%    1.575260e+07   717.000000    44.000000     7.000000  127286.040000   \n",
       "max    1.581569e+07   850.000000    85.000000    10.000000  250898.090000   \n",
       "\n",
       "       NumOfProducts    HasCrCard  IsActiveMember  EstimatedSalary  \n",
       "count    3501.000000  3501.000000     3501.000000      3501.000000  \n",
       "mean        1.549557     0.699229        0.516424     99614.417586  \n",
       "std         0.586187     0.458659        0.499802     56700.884072  \n",
       "min         1.000000     0.000000        0.000000        91.750000  \n",
       "25%         1.000000     0.000000        0.000000     51229.170000  \n",
       "50%         2.000000     1.000000        1.000000     99770.300000  \n",
       "75%         2.000000     1.000000        1.000000    146411.410000  \n",
       "max         4.000000     1.000000        1.000000    199992.480000  "
      ]
     },
     "metadata": {},
     "output_type": "display_data"
    }
   ],
   "source": [
    "display(X_train.describe())\n",
    "display(X_test.describe())"
   ]
  },
  {
   "cell_type": "markdown",
   "id": "6a078daa",
   "metadata": {
    "papermill": {
     "duration": 0.006596,
     "end_time": "2022-12-28T06:27:13.149197",
     "exception": false,
     "start_time": "2022-12-28T06:27:13.142601",
     "status": "completed"
    },
    "tags": []
   },
   "source": [
    "# 2. Data Preprocessing"
   ]
  },
  {
   "cell_type": "code",
   "execution_count": 6,
   "id": "3f22a78b",
   "metadata": {
    "execution": {
     "iopub.execute_input": "2022-12-28T06:27:13.167219Z",
     "iopub.status.busy": "2022-12-28T06:27:13.166434Z",
     "iopub.status.idle": "2022-12-28T06:27:13.197551Z",
     "shell.execute_reply": "2022-12-28T06:27:13.196419Z"
    },
    "papermill": {
     "duration": 0.043705,
     "end_time": "2022-12-28T06:27:13.199845",
     "exception": false,
     "start_time": "2022-12-28T06:27:13.156140",
     "status": "completed"
    },
    "tags": []
   },
   "outputs": [
    {
     "data": {
      "text/html": [
       "<div>\n",
       "<style scoped>\n",
       "    .dataframe tbody tr th:only-of-type {\n",
       "        vertical-align: middle;\n",
       "    }\n",
       "\n",
       "    .dataframe tbody tr th {\n",
       "        vertical-align: top;\n",
       "    }\n",
       "\n",
       "    .dataframe thead th {\n",
       "        text-align: right;\n",
       "    }\n",
       "</style>\n",
       "<table border=\"1\" class=\"dataframe\">\n",
       "  <thead>\n",
       "    <tr style=\"text-align: right;\">\n",
       "      <th></th>\n",
       "      <th>CreditScore</th>\n",
       "      <th>Geography</th>\n",
       "      <th>Gender</th>\n",
       "      <th>Age</th>\n",
       "      <th>Tenure</th>\n",
       "      <th>Balance</th>\n",
       "      <th>NumOfProducts</th>\n",
       "      <th>HasCrCard</th>\n",
       "      <th>IsActiveMember</th>\n",
       "      <th>EstimatedSalary</th>\n",
       "    </tr>\n",
       "  </thead>\n",
       "  <tbody>\n",
       "    <tr>\n",
       "      <th>0</th>\n",
       "      <td>791</td>\n",
       "      <td>Germany</td>\n",
       "      <td>Female</td>\n",
       "      <td>35</td>\n",
       "      <td>7</td>\n",
       "      <td>52436.20</td>\n",
       "      <td>1</td>\n",
       "      <td>1</td>\n",
       "      <td>0</td>\n",
       "      <td>161051.75</td>\n",
       "    </tr>\n",
       "    <tr>\n",
       "      <th>1</th>\n",
       "      <td>705</td>\n",
       "      <td>Germany</td>\n",
       "      <td>Male</td>\n",
       "      <td>42</td>\n",
       "      <td>8</td>\n",
       "      <td>166685.92</td>\n",
       "      <td>2</td>\n",
       "      <td>1</td>\n",
       "      <td>1</td>\n",
       "      <td>55313.51</td>\n",
       "    </tr>\n",
       "    <tr>\n",
       "      <th>2</th>\n",
       "      <td>543</td>\n",
       "      <td>France</td>\n",
       "      <td>Female</td>\n",
       "      <td>31</td>\n",
       "      <td>4</td>\n",
       "      <td>138317.94</td>\n",
       "      <td>1</td>\n",
       "      <td>0</td>\n",
       "      <td>0</td>\n",
       "      <td>61843.73</td>\n",
       "    </tr>\n",
       "    <tr>\n",
       "      <th>3</th>\n",
       "      <td>709</td>\n",
       "      <td>France</td>\n",
       "      <td>Female</td>\n",
       "      <td>32</td>\n",
       "      <td>2</td>\n",
       "      <td>0.00</td>\n",
       "      <td>2</td>\n",
       "      <td>0</td>\n",
       "      <td>0</td>\n",
       "      <td>109681.29</td>\n",
       "    </tr>\n",
       "    <tr>\n",
       "      <th>4</th>\n",
       "      <td>714</td>\n",
       "      <td>Germany</td>\n",
       "      <td>Female</td>\n",
       "      <td>36</td>\n",
       "      <td>1</td>\n",
       "      <td>101609.01</td>\n",
       "      <td>2</td>\n",
       "      <td>1</td>\n",
       "      <td>1</td>\n",
       "      <td>447.73</td>\n",
       "    </tr>\n",
       "  </tbody>\n",
       "</table>\n",
       "</div>"
      ],
      "text/plain": [
       "   CreditScore Geography  Gender  Age  Tenure    Balance  NumOfProducts  \\\n",
       "0          791   Germany  Female   35       7   52436.20              1   \n",
       "1          705   Germany    Male   42       8  166685.92              2   \n",
       "2          543    France  Female   31       4  138317.94              1   \n",
       "3          709    France  Female   32       2       0.00              2   \n",
       "4          714   Germany  Female   36       1  101609.01              2   \n",
       "\n",
       "   HasCrCard  IsActiveMember  EstimatedSalary  \n",
       "0          1               0        161051.75  \n",
       "1          1               1         55313.51  \n",
       "2          0               0         61843.73  \n",
       "3          0               0        109681.29  \n",
       "4          1               1           447.73  "
      ]
     },
     "metadata": {},
     "output_type": "display_data"
    },
    {
     "data": {
      "text/html": [
       "<div>\n",
       "<style scoped>\n",
       "    .dataframe tbody tr th:only-of-type {\n",
       "        vertical-align: middle;\n",
       "    }\n",
       "\n",
       "    .dataframe tbody tr th {\n",
       "        vertical-align: top;\n",
       "    }\n",
       "\n",
       "    .dataframe thead th {\n",
       "        text-align: right;\n",
       "    }\n",
       "</style>\n",
       "<table border=\"1\" class=\"dataframe\">\n",
       "  <thead>\n",
       "    <tr style=\"text-align: right;\">\n",
       "      <th></th>\n",
       "      <th>CreditScore</th>\n",
       "      <th>Geography</th>\n",
       "      <th>Gender</th>\n",
       "      <th>Age</th>\n",
       "      <th>Tenure</th>\n",
       "      <th>Balance</th>\n",
       "      <th>NumOfProducts</th>\n",
       "      <th>HasCrCard</th>\n",
       "      <th>IsActiveMember</th>\n",
       "      <th>EstimatedSalary</th>\n",
       "    </tr>\n",
       "  </thead>\n",
       "  <tbody>\n",
       "    <tr>\n",
       "      <th>0</th>\n",
       "      <td>802</td>\n",
       "      <td>France</td>\n",
       "      <td>Female</td>\n",
       "      <td>60</td>\n",
       "      <td>3</td>\n",
       "      <td>92887.06</td>\n",
       "      <td>1</td>\n",
       "      <td>1</td>\n",
       "      <td>0</td>\n",
       "      <td>39473.63</td>\n",
       "    </tr>\n",
       "    <tr>\n",
       "      <th>1</th>\n",
       "      <td>602</td>\n",
       "      <td>France</td>\n",
       "      <td>Female</td>\n",
       "      <td>56</td>\n",
       "      <td>3</td>\n",
       "      <td>115895.22</td>\n",
       "      <td>3</td>\n",
       "      <td>1</td>\n",
       "      <td>0</td>\n",
       "      <td>4176.17</td>\n",
       "    </tr>\n",
       "    <tr>\n",
       "      <th>2</th>\n",
       "      <td>801</td>\n",
       "      <td>France</td>\n",
       "      <td>Female</td>\n",
       "      <td>32</td>\n",
       "      <td>4</td>\n",
       "      <td>75170.54</td>\n",
       "      <td>1</td>\n",
       "      <td>1</td>\n",
       "      <td>1</td>\n",
       "      <td>37898.50</td>\n",
       "    </tr>\n",
       "    <tr>\n",
       "      <th>3</th>\n",
       "      <td>693</td>\n",
       "      <td>Spain</td>\n",
       "      <td>Female</td>\n",
       "      <td>34</td>\n",
       "      <td>10</td>\n",
       "      <td>107556.06</td>\n",
       "      <td>2</td>\n",
       "      <td>0</td>\n",
       "      <td>0</td>\n",
       "      <td>154631.35</td>\n",
       "    </tr>\n",
       "    <tr>\n",
       "      <th>4</th>\n",
       "      <td>592</td>\n",
       "      <td>France</td>\n",
       "      <td>Female</td>\n",
       "      <td>62</td>\n",
       "      <td>5</td>\n",
       "      <td>0.00</td>\n",
       "      <td>1</td>\n",
       "      <td>1</td>\n",
       "      <td>1</td>\n",
       "      <td>100941.57</td>\n",
       "    </tr>\n",
       "  </tbody>\n",
       "</table>\n",
       "</div>"
      ],
      "text/plain": [
       "   CreditScore Geography  Gender  Age  Tenure    Balance  NumOfProducts  \\\n",
       "0          802    France  Female   60       3   92887.06              1   \n",
       "1          602    France  Female   56       3  115895.22              3   \n",
       "2          801    France  Female   32       4   75170.54              1   \n",
       "3          693     Spain  Female   34      10  107556.06              2   \n",
       "4          592    France  Female   62       5       0.00              1   \n",
       "\n",
       "   HasCrCard  IsActiveMember  EstimatedSalary  \n",
       "0          1               0         39473.63  \n",
       "1          1               0          4176.17  \n",
       "2          1               1         37898.50  \n",
       "3          0               0        154631.35  \n",
       "4          1               1        100941.57  "
      ]
     },
     "metadata": {},
     "output_type": "display_data"
    },
    {
     "name": "stdout",
     "output_type": "stream",
     "text": [
      "0    5175\n",
      "1    1324\n",
      "Name: Exited, dtype: int64\n"
     ]
    }
   ],
   "source": [
    "X_train = X_train.drop([\"CustomerId\", \"Surname\"], axis=1)\n",
    "\n",
    "X_test_id = X_test[\"CustomerId\"]\n",
    "X_test = X_test.drop([\"CustomerId\", \"Surname\"], axis=1)\n",
    "\n",
    "display(X_train.head())\n",
    "display(X_test.head())\n",
    "\n",
    "y_train = y_train[\"Exited\"]\n",
    "print(y_train.value_counts())"
   ]
  },
  {
   "cell_type": "markdown",
   "id": "d6a1dbfe",
   "metadata": {
    "papermill": {
     "duration": 0.0073,
     "end_time": "2022-12-28T06:27:13.214789",
     "exception": false,
     "start_time": "2022-12-28T06:27:13.207489",
     "status": "completed"
    },
    "tags": []
   },
   "source": [
    "## Checking missing values"
   ]
  },
  {
   "cell_type": "code",
   "execution_count": 7,
   "id": "a5590463",
   "metadata": {
    "execution": {
     "iopub.execute_input": "2022-12-28T06:27:13.231744Z",
     "iopub.status.busy": "2022-12-28T06:27:13.231290Z",
     "iopub.status.idle": "2022-12-28T06:27:13.242539Z",
     "shell.execute_reply": "2022-12-28T06:27:13.240860Z"
    },
    "papermill": {
     "duration": 0.023737,
     "end_time": "2022-12-28T06:27:13.246059",
     "exception": false,
     "start_time": "2022-12-28T06:27:13.222322",
     "status": "completed"
    },
    "tags": []
   },
   "outputs": [
    {
     "name": "stdout",
     "output_type": "stream",
     "text": [
      "CreditScore        0\n",
      "Geography          0\n",
      "Gender             0\n",
      "Age                0\n",
      "Tenure             0\n",
      "Balance            0\n",
      "NumOfProducts      0\n",
      "HasCrCard          0\n",
      "IsActiveMember     0\n",
      "EstimatedSalary    0\n",
      "dtype: int64\n",
      "CreditScore        0\n",
      "Geography          0\n",
      "Gender             0\n",
      "Age                0\n",
      "Tenure             0\n",
      "Balance            0\n",
      "NumOfProducts      0\n",
      "HasCrCard          0\n",
      "IsActiveMember     0\n",
      "EstimatedSalary    0\n",
      "dtype: int64\n"
     ]
    }
   ],
   "source": [
    "print(X_train.isnull().sum())\n",
    "print(X_test.isnull().sum())"
   ]
  },
  {
   "cell_type": "markdown",
   "id": "912cd931",
   "metadata": {
    "papermill": {
     "duration": 0.007378,
     "end_time": "2022-12-28T06:27:13.261551",
     "exception": false,
     "start_time": "2022-12-28T06:27:13.254173",
     "status": "completed"
    },
    "tags": []
   },
   "source": [
    "## Encoding"
   ]
  },
  {
   "cell_type": "code",
   "execution_count": 8,
   "id": "ef2a5d2a",
   "metadata": {
    "execution": {
     "iopub.execute_input": "2022-12-28T06:27:13.278932Z",
     "iopub.status.busy": "2022-12-28T06:27:13.278022Z",
     "iopub.status.idle": "2022-12-28T06:27:13.295462Z",
     "shell.execute_reply": "2022-12-28T06:27:13.293757Z"
    },
    "papermill": {
     "duration": 0.028689,
     "end_time": "2022-12-28T06:27:13.297861",
     "exception": false,
     "start_time": "2022-12-28T06:27:13.269172",
     "status": "completed"
    },
    "tags": []
   },
   "outputs": [
    {
     "name": "stdout",
     "output_type": "stream",
     "text": [
      "---------\n",
      "Geography\n",
      "3\n",
      "France     3227\n",
      "Germany    1650\n",
      "Spain      1622\n",
      "Name: Geography, dtype: int64\n",
      "---------\n",
      "Gender\n",
      "4\n",
      "Male      3485\n",
      "Female    2861\n",
      " male       80\n",
      "female      73\n",
      "Name: Gender, dtype: int64\n",
      "---------\n",
      "Geography\n",
      "3\n",
      "France     1787\n",
      "Germany     859\n",
      "Spain       855\n",
      "Name: Geography, dtype: int64\n",
      "---------\n",
      "Gender\n",
      "4\n",
      "Male      1839\n",
      "Female    1562\n",
      " male       53\n",
      "female      47\n",
      "Name: Gender, dtype: int64\n"
     ]
    }
   ],
   "source": [
    "for col in X_train.select_dtypes(object).columns.tolist():\n",
    "    print('---------')\n",
    "    print(col)\n",
    "    print(X_train[col].nunique())\n",
    "    print(X_train[col].value_counts())\n",
    "    \n",
    "for col in X_test.select_dtypes(object).columns.tolist():\n",
    "    print('---------')\n",
    "    print(col)\n",
    "    print(X_test[col].nunique())\n",
    "    print(X_test[col].value_counts())"
   ]
  },
  {
   "cell_type": "code",
   "execution_count": 9,
   "id": "f5928cd3",
   "metadata": {
    "execution": {
     "iopub.execute_input": "2022-12-28T06:27:13.315550Z",
     "iopub.status.busy": "2022-12-28T06:27:13.314700Z",
     "iopub.status.idle": "2022-12-28T06:27:13.329832Z",
     "shell.execute_reply": "2022-12-28T06:27:13.328568Z"
    },
    "papermill": {
     "duration": 0.026556,
     "end_time": "2022-12-28T06:27:13.332315",
     "exception": false,
     "start_time": "2022-12-28T06:27:13.305759",
     "status": "completed"
    },
    "tags": []
   },
   "outputs": [
    {
     "name": "stdout",
     "output_type": "stream",
     "text": [
      "male      3565\n",
      "female    2934\n",
      "Name: Gender, dtype: int64\n",
      "---------\n",
      "male      1892\n",
      "female    1609\n",
      "Name: Gender, dtype: int64\n"
     ]
    }
   ],
   "source": [
    "X_train[\"Gender\"] = X_train[\"Gender\"].apply(str.strip).apply(str.lower)\n",
    "X_test[\"Gender\"] = X_test[\"Gender\"].apply(str.strip).apply(str.lower)\n",
    "\n",
    "print(X_train[\"Gender\"].value_counts())\n",
    "print('---------')\n",
    "print(X_test[\"Gender\"].value_counts())"
   ]
  },
  {
   "cell_type": "code",
   "execution_count": 10,
   "id": "438c0869",
   "metadata": {
    "execution": {
     "iopub.execute_input": "2022-12-28T06:27:13.349884Z",
     "iopub.status.busy": "2022-12-28T06:27:13.349510Z",
     "iopub.status.idle": "2022-12-28T06:27:14.321712Z",
     "shell.execute_reply": "2022-12-28T06:27:14.320597Z"
    },
    "papermill": {
     "duration": 0.98404,
     "end_time": "2022-12-28T06:27:14.324196",
     "exception": false,
     "start_time": "2022-12-28T06:27:13.340156",
     "status": "completed"
    },
    "tags": []
   },
   "outputs": [
    {
     "data": {
      "text/html": [
       "<div>\n",
       "<style scoped>\n",
       "    .dataframe tbody tr th:only-of-type {\n",
       "        vertical-align: middle;\n",
       "    }\n",
       "\n",
       "    .dataframe tbody tr th {\n",
       "        vertical-align: top;\n",
       "    }\n",
       "\n",
       "    .dataframe thead th {\n",
       "        text-align: right;\n",
       "    }\n",
       "</style>\n",
       "<table border=\"1\" class=\"dataframe\">\n",
       "  <thead>\n",
       "    <tr style=\"text-align: right;\">\n",
       "      <th></th>\n",
       "      <th>CreditScore</th>\n",
       "      <th>Geography</th>\n",
       "      <th>Gender</th>\n",
       "      <th>Age</th>\n",
       "      <th>Tenure</th>\n",
       "      <th>Balance</th>\n",
       "      <th>NumOfProducts</th>\n",
       "      <th>HasCrCard</th>\n",
       "      <th>IsActiveMember</th>\n",
       "      <th>EstimatedSalary</th>\n",
       "    </tr>\n",
       "  </thead>\n",
       "  <tbody>\n",
       "    <tr>\n",
       "      <th>0</th>\n",
       "      <td>791</td>\n",
       "      <td>1</td>\n",
       "      <td>0</td>\n",
       "      <td>35</td>\n",
       "      <td>7</td>\n",
       "      <td>52436.20</td>\n",
       "      <td>1</td>\n",
       "      <td>1</td>\n",
       "      <td>0</td>\n",
       "      <td>161051.75</td>\n",
       "    </tr>\n",
       "    <tr>\n",
       "      <th>1</th>\n",
       "      <td>705</td>\n",
       "      <td>1</td>\n",
       "      <td>1</td>\n",
       "      <td>42</td>\n",
       "      <td>8</td>\n",
       "      <td>166685.92</td>\n",
       "      <td>2</td>\n",
       "      <td>1</td>\n",
       "      <td>1</td>\n",
       "      <td>55313.51</td>\n",
       "    </tr>\n",
       "    <tr>\n",
       "      <th>2</th>\n",
       "      <td>543</td>\n",
       "      <td>0</td>\n",
       "      <td>0</td>\n",
       "      <td>31</td>\n",
       "      <td>4</td>\n",
       "      <td>138317.94</td>\n",
       "      <td>1</td>\n",
       "      <td>0</td>\n",
       "      <td>0</td>\n",
       "      <td>61843.73</td>\n",
       "    </tr>\n",
       "    <tr>\n",
       "      <th>3</th>\n",
       "      <td>709</td>\n",
       "      <td>0</td>\n",
       "      <td>0</td>\n",
       "      <td>32</td>\n",
       "      <td>2</td>\n",
       "      <td>0.00</td>\n",
       "      <td>2</td>\n",
       "      <td>0</td>\n",
       "      <td>0</td>\n",
       "      <td>109681.29</td>\n",
       "    </tr>\n",
       "    <tr>\n",
       "      <th>4</th>\n",
       "      <td>714</td>\n",
       "      <td>1</td>\n",
       "      <td>0</td>\n",
       "      <td>36</td>\n",
       "      <td>1</td>\n",
       "      <td>101609.01</td>\n",
       "      <td>2</td>\n",
       "      <td>1</td>\n",
       "      <td>1</td>\n",
       "      <td>447.73</td>\n",
       "    </tr>\n",
       "  </tbody>\n",
       "</table>\n",
       "</div>"
      ],
      "text/plain": [
       "   CreditScore  Geography  Gender  Age  Tenure    Balance  NumOfProducts  \\\n",
       "0          791          1       0   35       7   52436.20              1   \n",
       "1          705          1       1   42       8  166685.92              2   \n",
       "2          543          0       0   31       4  138317.94              1   \n",
       "3          709          0       0   32       2       0.00              2   \n",
       "4          714          1       0   36       1  101609.01              2   \n",
       "\n",
       "   HasCrCard  IsActiveMember  EstimatedSalary  \n",
       "0          1               0        161051.75  \n",
       "1          1               1         55313.51  \n",
       "2          0               0         61843.73  \n",
       "3          0               0        109681.29  \n",
       "4          1               1           447.73  "
      ]
     },
     "metadata": {},
     "output_type": "display_data"
    },
    {
     "data": {
      "text/html": [
       "<div>\n",
       "<style scoped>\n",
       "    .dataframe tbody tr th:only-of-type {\n",
       "        vertical-align: middle;\n",
       "    }\n",
       "\n",
       "    .dataframe tbody tr th {\n",
       "        vertical-align: top;\n",
       "    }\n",
       "\n",
       "    .dataframe thead th {\n",
       "        text-align: right;\n",
       "    }\n",
       "</style>\n",
       "<table border=\"1\" class=\"dataframe\">\n",
       "  <thead>\n",
       "    <tr style=\"text-align: right;\">\n",
       "      <th></th>\n",
       "      <th>CreditScore</th>\n",
       "      <th>Geography</th>\n",
       "      <th>Gender</th>\n",
       "      <th>Age</th>\n",
       "      <th>Tenure</th>\n",
       "      <th>Balance</th>\n",
       "      <th>NumOfProducts</th>\n",
       "      <th>HasCrCard</th>\n",
       "      <th>IsActiveMember</th>\n",
       "      <th>EstimatedSalary</th>\n",
       "    </tr>\n",
       "  </thead>\n",
       "  <tbody>\n",
       "    <tr>\n",
       "      <th>0</th>\n",
       "      <td>802</td>\n",
       "      <td>0</td>\n",
       "      <td>0</td>\n",
       "      <td>60</td>\n",
       "      <td>3</td>\n",
       "      <td>92887.06</td>\n",
       "      <td>1</td>\n",
       "      <td>1</td>\n",
       "      <td>0</td>\n",
       "      <td>39473.63</td>\n",
       "    </tr>\n",
       "    <tr>\n",
       "      <th>1</th>\n",
       "      <td>602</td>\n",
       "      <td>0</td>\n",
       "      <td>0</td>\n",
       "      <td>56</td>\n",
       "      <td>3</td>\n",
       "      <td>115895.22</td>\n",
       "      <td>3</td>\n",
       "      <td>1</td>\n",
       "      <td>0</td>\n",
       "      <td>4176.17</td>\n",
       "    </tr>\n",
       "    <tr>\n",
       "      <th>2</th>\n",
       "      <td>801</td>\n",
       "      <td>0</td>\n",
       "      <td>0</td>\n",
       "      <td>32</td>\n",
       "      <td>4</td>\n",
       "      <td>75170.54</td>\n",
       "      <td>1</td>\n",
       "      <td>1</td>\n",
       "      <td>1</td>\n",
       "      <td>37898.50</td>\n",
       "    </tr>\n",
       "    <tr>\n",
       "      <th>3</th>\n",
       "      <td>693</td>\n",
       "      <td>2</td>\n",
       "      <td>0</td>\n",
       "      <td>34</td>\n",
       "      <td>10</td>\n",
       "      <td>107556.06</td>\n",
       "      <td>2</td>\n",
       "      <td>0</td>\n",
       "      <td>0</td>\n",
       "      <td>154631.35</td>\n",
       "    </tr>\n",
       "    <tr>\n",
       "      <th>4</th>\n",
       "      <td>592</td>\n",
       "      <td>0</td>\n",
       "      <td>0</td>\n",
       "      <td>62</td>\n",
       "      <td>5</td>\n",
       "      <td>0.00</td>\n",
       "      <td>1</td>\n",
       "      <td>1</td>\n",
       "      <td>1</td>\n",
       "      <td>100941.57</td>\n",
       "    </tr>\n",
       "  </tbody>\n",
       "</table>\n",
       "</div>"
      ],
      "text/plain": [
       "   CreditScore  Geography  Gender  Age  Tenure    Balance  NumOfProducts  \\\n",
       "0          802          0       0   60       3   92887.06              1   \n",
       "1          602          0       0   56       3  115895.22              3   \n",
       "2          801          0       0   32       4   75170.54              1   \n",
       "3          693          2       0   34      10  107556.06              2   \n",
       "4          592          0       0   62       5       0.00              1   \n",
       "\n",
       "   HasCrCard  IsActiveMember  EstimatedSalary  \n",
       "0          1               0         39473.63  \n",
       "1          1               0          4176.17  \n",
       "2          1               1         37898.50  \n",
       "3          0               0        154631.35  \n",
       "4          1               1        100941.57  "
      ]
     },
     "metadata": {},
     "output_type": "display_data"
    }
   ],
   "source": [
    "from sklearn.preprocessing import LabelEncoder\n",
    "\n",
    "c_cols = X_train.select_dtypes(object).columns\n",
    "\n",
    "for col in c_cols :\n",
    "    le = LabelEncoder()\n",
    "    X_train[col] = le.fit_transform(X_train[col])\n",
    "    X_test[col] = le.transform(X_test[col])\n",
    "    \n",
    "display(X_train.head())\n",
    "display(X_test.head())"
   ]
  },
  {
   "cell_type": "markdown",
   "id": "22a84738",
   "metadata": {
    "papermill": {
     "duration": 0.008045,
     "end_time": "2022-12-28T06:27:14.340760",
     "exception": false,
     "start_time": "2022-12-28T06:27:14.332715",
     "status": "completed"
    },
    "tags": []
   },
   "source": [
    "## Scaling"
   ]
  },
  {
   "cell_type": "code",
   "execution_count": 11,
   "id": "49a849d4",
   "metadata": {
    "execution": {
     "iopub.execute_input": "2022-12-28T06:27:14.359775Z",
     "iopub.status.busy": "2022-12-28T06:27:14.359367Z",
     "iopub.status.idle": "2022-12-28T06:27:14.390696Z",
     "shell.execute_reply": "2022-12-28T06:27:14.389081Z"
    },
    "papermill": {
     "duration": 0.043794,
     "end_time": "2022-12-28T06:27:14.393201",
     "exception": false,
     "start_time": "2022-12-28T06:27:14.349407",
     "status": "completed"
    },
    "tags": []
   },
   "outputs": [
    {
     "name": "stdout",
     "output_type": "stream",
     "text": [
      "before scaling \n",
      "    CreditScore  Geography  Gender  Age  Tenure    Balance  NumOfProducts  \\\n",
      "0          791          1       0   35       7   52436.20              1   \n",
      "1          705          1       1   42       8  166685.92              2   \n",
      "2          543          0       0   31       4  138317.94              1   \n",
      "3          709          0       0   32       2       0.00              2   \n",
      "4          714          1       0   36       1  101609.01              2   \n",
      "\n",
      "   HasCrCard  IsActiveMember  EstimatedSalary  \n",
      "0          1               0        161051.75  \n",
      "1          1               1         55313.51  \n",
      "2          0               0         61843.73  \n",
      "3          0               0        109681.29  \n",
      "4          1               1           447.73  \n",
      "---------\n",
      "after scaling \n",
      "     CreditScore  Geography    Gender       Age    Tenure   Balance  \\\n",
      "0     1.455346   0.298362 -1.102300 -0.376792  0.677301 -0.391014   \n",
      "1     0.565183   0.298362  0.907194  0.289748  1.023136  1.439829   \n",
      "2    -1.111636  -0.909772 -1.102300 -0.757672 -0.360202  0.985234   \n",
      "3     0.606586  -0.909772 -1.102300 -0.662452 -1.051871 -1.231301   \n",
      "4     0.658339   0.298362 -1.102300 -0.281572 -1.397706  0.396976   \n",
      "\n",
      "   NumOfProducts  HasCrCard  IsActiveMember  EstimatedSalary  \n",
      "0      -0.897814   0.640843       -1.029200         1.047721  \n",
      "1       0.829508   0.640843        0.971629        -0.777233  \n",
      "2      -0.897814  -1.560445       -1.029200        -0.664527  \n",
      "3       0.829508  -1.560445       -1.029200         0.161110  \n",
      "4       0.829508   0.640843        0.971629        -1.724171  \n"
     ]
    }
   ],
   "source": [
    "from sklearn.preprocessing import StandardScaler\n",
    "\n",
    "print(\"before scaling \\n\", X_train.head())\n",
    "print('---------')\n",
    "\n",
    "n_cols = X_train.select_dtypes(exclude=\"object\").columns\n",
    "    \n",
    "scaler = StandardScaler()\n",
    "X_train[n_cols] = scaler.fit_transform(X_train[n_cols])\n",
    "X_test[n_cols] = scaler.transform(X_test[n_cols])\n",
    "\n",
    "print(\"after scaling \\n \", X_train.head())"
   ]
  },
  {
   "cell_type": "markdown",
   "id": "713a0edd",
   "metadata": {
    "papermill": {
     "duration": 0.008677,
     "end_time": "2022-12-28T06:27:14.410563",
     "exception": false,
     "start_time": "2022-12-28T06:27:14.401886",
     "status": "completed"
    },
    "tags": []
   },
   "source": [
    "# 3. Splitting Data"
   ]
  },
  {
   "cell_type": "code",
   "execution_count": 12,
   "id": "b951265f",
   "metadata": {
    "execution": {
     "iopub.execute_input": "2022-12-28T06:27:14.429682Z",
     "iopub.status.busy": "2022-12-28T06:27:14.428730Z",
     "iopub.status.idle": "2022-12-28T06:27:14.498155Z",
     "shell.execute_reply": "2022-12-28T06:27:14.495256Z"
    },
    "papermill": {
     "duration": 0.082545,
     "end_time": "2022-12-28T06:27:14.501595",
     "exception": false,
     "start_time": "2022-12-28T06:27:14.419050",
     "status": "completed"
    },
    "tags": []
   },
   "outputs": [
    {
     "name": "stdout",
     "output_type": "stream",
     "text": [
      "(5199, 10) (1300, 10) (5199,) (1300,)\n"
     ]
    }
   ],
   "source": [
    "from sklearn.model_selection import train_test_split\n",
    "X_tr, X_val, y_tr, y_val = train_test_split(X_train, y_train, stratify=y_train, test_size = 0.2, random_state = 1)\n",
    "\n",
    "print(X_tr.shape, X_val.shape, y_tr.shape, y_val.shape)"
   ]
  },
  {
   "cell_type": "markdown",
   "id": "f934d193",
   "metadata": {
    "papermill": {
     "duration": 0.010585,
     "end_time": "2022-12-28T06:27:14.523663",
     "exception": false,
     "start_time": "2022-12-28T06:27:14.513078",
     "status": "completed"
    },
    "tags": []
   },
   "source": [
    "# 4. Modeling"
   ]
  },
  {
   "cell_type": "code",
   "execution_count": 13,
   "id": "dc95cd85",
   "metadata": {
    "execution": {
     "iopub.execute_input": "2022-12-28T06:27:14.545640Z",
     "iopub.status.busy": "2022-12-28T06:27:14.544811Z",
     "iopub.status.idle": "2022-12-28T06:27:14.844720Z",
     "shell.execute_reply": "2022-12-28T06:27:14.843230Z"
    },
    "papermill": {
     "duration": 0.3142,
     "end_time": "2022-12-28T06:27:14.848042",
     "exception": false,
     "start_time": "2022-12-28T06:27:14.533842",
     "status": "completed"
    },
    "tags": []
   },
   "outputs": [],
   "source": [
    "from sklearn.ensemble import RandomForestClassifier, GradientBoostingClassifier\n",
    "from xgboost import XGBClassifier\n",
    "\n",
    "from sklearn.metrics import accuracy_score, roc_auc_score"
   ]
  },
  {
   "cell_type": "code",
   "execution_count": 14,
   "id": "291508ee",
   "metadata": {
    "execution": {
     "iopub.execute_input": "2022-12-28T06:27:14.874040Z",
     "iopub.status.busy": "2022-12-28T06:27:14.873276Z",
     "iopub.status.idle": "2022-12-28T06:27:14.880391Z",
     "shell.execute_reply": "2022-12-28T06:27:14.879325Z"
    },
    "papermill": {
     "duration": 0.024441,
     "end_time": "2022-12-28T06:27:14.884109",
     "exception": false,
     "start_time": "2022-12-28T06:27:14.859668",
     "status": "completed"
    },
    "tags": []
   },
   "outputs": [],
   "source": [
    "rf = RandomForestClassifier(random_state=1)\n",
    "gb = GradientBoostingClassifier(random_state=1)\n",
    "xgb = XGBClassifier(random_state=1)\n",
    "\n",
    "models = [rf, gb, xgb]"
   ]
  },
  {
   "cell_type": "code",
   "execution_count": 15,
   "id": "bade38bb",
   "metadata": {
    "execution": {
     "iopub.execute_input": "2022-12-28T06:27:14.910853Z",
     "iopub.status.busy": "2022-12-28T06:27:14.909913Z",
     "iopub.status.idle": "2022-12-28T06:30:32.182183Z",
     "shell.execute_reply": "2022-12-28T06:30:32.180788Z"
    },
    "papermill": {
     "duration": 197.297362,
     "end_time": "2022-12-28T06:30:32.193558",
     "exception": false,
     "start_time": "2022-12-28T06:27:14.896196",
     "status": "completed"
    },
    "tags": []
   },
   "outputs": [
    {
     "name": "stdout",
     "output_type": "stream",
     "text": [
      "==========\n",
      "model : RandomForestClassifier(random_state=1)\n",
      "params : {'max_depth': 5, 'n_estimators': 100}\n",
      "score : 0.8498457318108361\n",
      "==========\n",
      "model : GradientBoostingClassifier(random_state=1)\n",
      "params : {'max_depth': 3, 'n_estimators': 100}\n",
      "score : 0.8599718678843535\n",
      "==========\n",
      "model : XGBClassifier(base_score=None, booster=None, callbacks=None,\n",
      "              colsample_bylevel=None, colsample_bynode=None,\n",
      "              colsample_bytree=None, early_stopping_rounds=None,\n",
      "              enable_categorical=False, eval_metric=None, feature_types=None,\n",
      "              gamma=None, gpu_id=None, grow_policy=None, importance_type=None,\n",
      "              interaction_constraints=None, learning_rate=None, max_bin=None,\n",
      "              max_cat_threshold=None, max_cat_to_onehot=None,\n",
      "              max_delta_step=None, max_depth=None, max_leaves=None,\n",
      "              min_child_weight=None, missing=nan, monotone_constraints=None,\n",
      "              n_estimators=100, n_jobs=None, num_parallel_tree=None,\n",
      "              predictor=None, random_state=1, ...)\n",
      "params : {'max_depth': 2, 'n_estimators': 100}\n",
      "score : 0.8580376647870885\n"
     ]
    }
   ],
   "source": [
    "# Hyperparameter tuning\n",
    "\n",
    "from sklearn.model_selection import GridSearchCV\n",
    "\n",
    "params = {\"n_estimators\":[100,200,300,400,500], \"max_depth\":[1,2,3,4,5]}\n",
    "\n",
    "# best_models = []\n",
    "\n",
    "for model in models:\n",
    "    gs = GridSearchCV(model, param_grid=params, cv = 5, scoring=\"roc_auc\", n_jobs=4)\n",
    "    gs.fit(X_tr, y_tr)\n",
    "    \n",
    "    print(f\"=\"*10)\n",
    "    print(f\"model : {model}\")\n",
    "    print(f\"params : {gs.best_params_}\")\n",
    "    print(f\"score : {gs.best_score_}\") # 최고 정확도"
   ]
  },
  {
   "cell_type": "code",
   "execution_count": 16,
   "id": "1ca9280e",
   "metadata": {
    "execution": {
     "iopub.execute_input": "2022-12-28T06:30:32.213739Z",
     "iopub.status.busy": "2022-12-28T06:30:32.213335Z",
     "iopub.status.idle": "2022-12-28T06:30:33.076011Z",
     "shell.execute_reply": "2022-12-28T06:30:33.074249Z"
    },
    "papermill": {
     "duration": 0.874743,
     "end_time": "2022-12-28T06:30:33.077829",
     "exception": true,
     "start_time": "2022-12-28T06:30:32.203086",
     "status": "failed"
    },
    "tags": []
   },
   "outputs": [
    {
     "data": {
      "text/html": [
       "<style>#sk-container-id-1 {color: black;background-color: white;}#sk-container-id-1 pre{padding: 0;}#sk-container-id-1 div.sk-toggleable {background-color: white;}#sk-container-id-1 label.sk-toggleable__label {cursor: pointer;display: block;width: 100%;margin-bottom: 0;padding: 0.3em;box-sizing: border-box;text-align: center;}#sk-container-id-1 label.sk-toggleable__label-arrow:before {content: \"▸\";float: left;margin-right: 0.25em;color: #696969;}#sk-container-id-1 label.sk-toggleable__label-arrow:hover:before {color: black;}#sk-container-id-1 div.sk-estimator:hover label.sk-toggleable__label-arrow:before {color: black;}#sk-container-id-1 div.sk-toggleable__content {max-height: 0;max-width: 0;overflow: hidden;text-align: left;background-color: #f0f8ff;}#sk-container-id-1 div.sk-toggleable__content pre {margin: 0.2em;color: black;border-radius: 0.25em;background-color: #f0f8ff;}#sk-container-id-1 input.sk-toggleable__control:checked~div.sk-toggleable__content {max-height: 200px;max-width: 100%;overflow: auto;}#sk-container-id-1 input.sk-toggleable__control:checked~label.sk-toggleable__label-arrow:before {content: \"▾\";}#sk-container-id-1 div.sk-estimator input.sk-toggleable__control:checked~label.sk-toggleable__label {background-color: #d4ebff;}#sk-container-id-1 div.sk-label input.sk-toggleable__control:checked~label.sk-toggleable__label {background-color: #d4ebff;}#sk-container-id-1 input.sk-hidden--visually {border: 0;clip: rect(1px 1px 1px 1px);clip: rect(1px, 1px, 1px, 1px);height: 1px;margin: -1px;overflow: hidden;padding: 0;position: absolute;width: 1px;}#sk-container-id-1 div.sk-estimator {font-family: monospace;background-color: #f0f8ff;border: 1px dotted black;border-radius: 0.25em;box-sizing: border-box;margin-bottom: 0.5em;}#sk-container-id-1 div.sk-estimator:hover {background-color: #d4ebff;}#sk-container-id-1 div.sk-parallel-item::after {content: \"\";width: 100%;border-bottom: 1px solid gray;flex-grow: 1;}#sk-container-id-1 div.sk-label:hover label.sk-toggleable__label {background-color: #d4ebff;}#sk-container-id-1 div.sk-serial::before {content: \"\";position: absolute;border-left: 1px solid gray;box-sizing: border-box;top: 0;bottom: 0;left: 50%;z-index: 0;}#sk-container-id-1 div.sk-serial {display: flex;flex-direction: column;align-items: center;background-color: white;padding-right: 0.2em;padding-left: 0.2em;position: relative;}#sk-container-id-1 div.sk-item {position: relative;z-index: 1;}#sk-container-id-1 div.sk-parallel {display: flex;align-items: stretch;justify-content: center;background-color: white;position: relative;}#sk-container-id-1 div.sk-item::before, #sk-container-id-1 div.sk-parallel-item::before {content: \"\";position: absolute;border-left: 1px solid gray;box-sizing: border-box;top: 0;bottom: 0;left: 50%;z-index: -1;}#sk-container-id-1 div.sk-parallel-item {display: flex;flex-direction: column;z-index: 1;position: relative;background-color: white;}#sk-container-id-1 div.sk-parallel-item:first-child::after {align-self: flex-end;width: 50%;}#sk-container-id-1 div.sk-parallel-item:last-child::after {align-self: flex-start;width: 50%;}#sk-container-id-1 div.sk-parallel-item:only-child::after {width: 0;}#sk-container-id-1 div.sk-dashed-wrapped {border: 1px dashed gray;margin: 0 0.4em 0.5em 0.4em;box-sizing: border-box;padding-bottom: 0.4em;background-color: white;}#sk-container-id-1 div.sk-label label {font-family: monospace;font-weight: bold;display: inline-block;line-height: 1.2em;}#sk-container-id-1 div.sk-label-container {text-align: center;}#sk-container-id-1 div.sk-container {/* jupyter's `normalize.less` sets `[hidden] { display: none; }` but bootstrap.min.css set `[hidden] { display: none !important; }` so we also need the `!important` here to be able to override the default hidden behavior on the sphinx rendered scikit-learn.org. See: https://github.com/scikit-learn/scikit-learn/issues/21755 */display: inline-block !important;position: relative;}#sk-container-id-1 div.sk-text-repr-fallback {display: none;}</style><div id=\"sk-container-id-1\" class=\"sk-top-container\"><div class=\"sk-text-repr-fallback\"><pre>GradientBoostingClassifier(random_state=1)</pre><b>In a Jupyter environment, please rerun this cell to show the HTML representation or trust the notebook. <br />On GitHub, the HTML representation is unable to render, please try loading this page with nbviewer.org.</b></div><div class=\"sk-container\" hidden><div class=\"sk-item\"><div class=\"sk-estimator sk-toggleable\"><input class=\"sk-toggleable__control sk-hidden--visually\" id=\"sk-estimator-id-1\" type=\"checkbox\" checked><label for=\"sk-estimator-id-1\" class=\"sk-toggleable__label sk-toggleable__label-arrow\">GradientBoostingClassifier</label><div class=\"sk-toggleable__content\"><pre>GradientBoostingClassifier(random_state=1)</pre></div></div></div></div></div>"
      ],
      "text/plain": [
       "GradientBoostingClassifier(random_state=1)"
      ]
     },
     "execution_count": 16,
     "metadata": {},
     "output_type": "execute_result"
    }
   ],
   "source": [
    "model_gb = GradientBoostingClassifier(random_state=1, max_depth=3, n_estimators=100)\n",
    "model_gb.fit(X_tr, y_tr) # 학습"
   ]
  },
  {
   "cell_type": "code",
   "execution_count": 17,
   "id": "7d415382",
   "metadata": {},
   "outputs": [
    {
     "name": "stdout",
     "output_type": "stream",
     "text": [
      "train accuracy : 0.8768994037314868\n",
      "validation accuracy : 0.8638461538461538\n",
      "==========\n",
      "train auc : 0.8947276165190934\n",
      "validation auc : 0.8626597393127337\n"
     ]
    }
   ],
   "source": [
    "# model score : train\n",
    "predict_tr_label = model_gb.predict(X_tr)\n",
    "predict_tr_proba = model_gb.predict_proba(X_tr)[:, 1]\n",
    "\n",
    "# model score : Validation\n",
    "predict_val_label = model_gb.predict(X_val)\n",
    "predict_val_proba = model_gb.predict_proba(X_val)[:, 1]\n",
    "\n",
    "\n",
    "print('train accuracy :', accuracy_score(y_tr, predict_tr_label))\n",
    "print('validation accuracy :', accuracy_score(y_val, predict_val_label))\n",
    "\n",
    "print(f\"=\"*10)\n",
    "\n",
    "print('train auc :', roc_auc_score(y_tr, predict_tr_proba))\n",
    "print('validation auc :', roc_auc_score(y_val, predict_val_proba))"
   ]
  },
  {
   "cell_type": "code",
   "execution_count": 18,
   "id": "70690166",
   "metadata": {},
   "outputs": [
    {
     "name": "stdout",
     "output_type": "stream",
     "text": [
      "accuracy_score: 0.8643244787203657\n",
      "roc_auc_score: 0.8611898116753629\n"
     ]
    }
   ],
   "source": [
    "# 최종 모델로 test data 최종 예측(평가)\n",
    "test_predict = model_gb.predict(X_test)\n",
    "test_predict_prob = model_gb.predict_proba(X_test)\n",
    "\n",
    "print(f\"accuracy_score:\", accuracy_score(y_test[\"Exited\"], test_predict))\n",
    "print(f\"roc_auc_score:\", roc_auc_score(y_test[\"Exited\"], test_predict_prob[:,1]))"
   ]
  },
  {
   "cell_type": "markdown",
   "id": "82548eb3",
   "metadata": {
    "papermill": {
     "duration": null,
     "end_time": null,
     "exception": null,
     "start_time": null,
     "status": "pending"
    },
    "tags": []
   },
   "source": [
    "# 5. Saving and Submission"
   ]
  },
  {
   "cell_type": "code",
   "execution_count": 19,
   "id": "65cca952",
   "metadata": {
    "execution": {
     "iopub.execute_input": "2022-12-28T05:47:29.263200Z",
     "iopub.status.busy": "2022-12-28T05:47:29.262560Z",
     "iopub.status.idle": "2022-12-28T05:47:29.302501Z",
     "shell.execute_reply": "2022-12-28T05:47:29.300891Z",
     "shell.execute_reply.started": "2022-12-28T05:47:29.263148Z"
    },
    "papermill": {
     "duration": null,
     "end_time": null,
     "exception": null,
     "start_time": null,
     "status": "pending"
    },
    "tags": []
   },
   "outputs": [
    {
     "name": "stdout",
     "output_type": "stream",
     "text": [
      "   CustomerId    Exited\n",
      "0    15601012  0.898722\n",
      "1    15734762  0.990010\n",
      "2    15586757  0.067135\n",
      "3    15590888  0.107688\n",
      "4    15726087  0.442673\n"
     ]
    },
    {
     "data": {
      "text/html": [
       "<div>\n",
       "<style scoped>\n",
       "    .dataframe tbody tr th:only-of-type {\n",
       "        vertical-align: middle;\n",
       "    }\n",
       "\n",
       "    .dataframe tbody tr th {\n",
       "        vertical-align: top;\n",
       "    }\n",
       "\n",
       "    .dataframe thead th {\n",
       "        text-align: right;\n",
       "    }\n",
       "</style>\n",
       "<table border=\"1\" class=\"dataframe\">\n",
       "  <thead>\n",
       "    <tr style=\"text-align: right;\">\n",
       "      <th></th>\n",
       "      <th>CustomerId</th>\n",
       "      <th>Exited</th>\n",
       "    </tr>\n",
       "  </thead>\n",
       "  <tbody>\n",
       "    <tr>\n",
       "      <th>0</th>\n",
       "      <td>15601012</td>\n",
       "      <td>0.898722</td>\n",
       "    </tr>\n",
       "    <tr>\n",
       "      <th>1</th>\n",
       "      <td>15734762</td>\n",
       "      <td>0.990010</td>\n",
       "    </tr>\n",
       "    <tr>\n",
       "      <th>2</th>\n",
       "      <td>15586757</td>\n",
       "      <td>0.067135</td>\n",
       "    </tr>\n",
       "    <tr>\n",
       "      <th>3</th>\n",
       "      <td>15590888</td>\n",
       "      <td>0.107688</td>\n",
       "    </tr>\n",
       "    <tr>\n",
       "      <th>4</th>\n",
       "      <td>15726087</td>\n",
       "      <td>0.442673</td>\n",
       "    </tr>\n",
       "  </tbody>\n",
       "</table>\n",
       "</div>"
      ],
      "text/plain": [
       "   CustomerId    Exited\n",
       "0    15601012  0.898722\n",
       "1    15734762  0.990010\n",
       "2    15586757  0.067135\n",
       "3    15590888  0.107688\n",
       "4    15726087  0.442673"
      ]
     },
     "execution_count": 19,
     "metadata": {},
     "output_type": "execute_result"
    }
   ],
   "source": [
    "submit = pd.DataFrame({\"CustomerId\": X_test_id, \"Exited\" : test_predict_prob[:,1]})\n",
    "print(submit.head())\n",
    "\n",
    "submit.to_csv(\"result.csv\", index = False)\n",
    "\n",
    "check = pd.read_csv(\"result.csv\")\n",
    "check.head()"
   ]
  }
 ],
 "metadata": {
  "kernelspec": {
   "display_name": "Python 3",
   "language": "python",
   "name": "python3"
  },
  "language_info": {
   "codemirror_mode": {
    "name": "ipython",
    "version": 3
   },
   "file_extension": ".py",
   "mimetype": "text/x-python",
   "name": "python",
   "nbconvert_exporter": "python",
   "pygments_lexer": "ipython3",
   "version": "3.11.0"
  },
  "papermill": {
   "default_parameters": {},
   "duration": 211.156312,
   "end_time": "2022-12-28T06:30:35.707138",
   "environment_variables": {},
   "exception": true,
   "input_path": "__notebook__.ipynb",
   "output_path": "__notebook__.ipynb",
   "parameters": {},
   "start_time": "2022-12-28T06:27:04.550826",
   "version": "2.3.4"
  },
  "vscode": {
   "interpreter": {
    "hash": "c261aea317cc0286b3b3261fbba9abdec21eaa57589985bb7a274bf54d6cc0a7"
   }
  }
 },
 "nbformat": 4,
 "nbformat_minor": 5
}
