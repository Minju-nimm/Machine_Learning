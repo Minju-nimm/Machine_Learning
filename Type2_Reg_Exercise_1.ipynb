{
 "cells": [
  {
   "attachments": {},
   "cell_type": "markdown",
   "metadata": {},
   "source": [
    "# Exercise : 학생성적 예측 데이터(Regression)"
   ]
  },
  {
   "cell_type": "code",
   "execution_count": null,
   "metadata": {},
   "outputs": [],
   "source": [
    "import pandas as pd"
   ]
  },
  {
   "cell_type": "code",
   "execution_count": null,
   "metadata": {},
   "outputs": [],
   "source": [
    "X_train =\n",
    "X_test =\n",
    "y_train = \n",
    "\n",
    "y_test = \n",
    "\n",
    "# kaggle\n",
    "# X_train = pd.read_csv('../input/student-performance-data-set-competition-form/X_train.csv')\n",
    "# X_test = pd.read_csv('../input/student-performance-data-set-competition-form/X_test.csv')\n",
    "# y_train = pd.read_csv('../input/student-performance-data-set-competition-form/y_train.csv')"
   ]
  }
 ],
 "metadata": {
  "kernelspec": {
   "display_name": "Python 3",
   "language": "python",
   "name": "python3"
  },
  "language_info": {
   "name": "python",
   "version": "3.11.0 (main, Oct 24 2022, 18:26:48) [MSC v.1933 64 bit (AMD64)]"
  },
  "orig_nbformat": 4,
  "vscode": {
   "interpreter": {
    "hash": "c261aea317cc0286b3b3261fbba9abdec21eaa57589985bb7a274bf54d6cc0a7"
   }
  }
 },
 "nbformat": 4,
 "nbformat_minor": 2
}
