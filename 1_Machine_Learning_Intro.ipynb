{
 "cells": [
  {
   "cell_type": "markdown",
   "id": "db2b7b33",
   "metadata": {},
   "source": [
    "# 머신러닝 개요\n",
    "- 머신 러닝은 영상 처리, 번역기, 음성 인식, 스팸 메일 탐지 등 다양한 분야에서 응용\n",
    "- 딥러닝을 포함"
   ]
  },
  {
   "cell_type": "markdown",
   "id": "3405423e",
   "metadata": {},
   "source": [
    "## 머신러닝 vs. 기존 프로그래밍 작성 방식"
   ]
  },
  {
   "cell_type": "markdown",
   "id": "03412169",
   "metadata": {},
   "source": [
    "<img src = \"https://wikidocs.net/images/page/21679/%EC%A0%84%ED%86%B5_vs_%EB%A8%B8%EC%8B%A0%EB%9F%AC%EB%8B%9D.png\" width=\"500\" height=\"400\" />"
   ]
  },
  {
   "cell_type": "markdown",
   "id": "db3d4916",
   "metadata": {},
   "source": [
    "### 머신러닝\n",
    "**데이터가 주어지면, 기계가 스스로 데이터로부터 규칙성을 찾는 것에 집중**  \n",
    "-> 데이터로부터 규칙성을 찾는 과정을 훈련(training), 학습(learning)이라고 함"
   ]
  },
  {
   "cell_type": "code",
   "execution_count": null,
   "id": "01d36963",
   "metadata": {},
   "outputs": [],
   "source": []
  },
  {
   "cell_type": "markdown",
   "id": "2bb91667",
   "metadata": {},
   "source": [
    "- 지도 \n",
    "- 비지도\n",
    "- 준지도\n",
    "\n",
    "- 강화"
   ]
  },
  {
   "cell_type": "code",
   "execution_count": null,
   "id": "ee3ef32a",
   "metadata": {},
   "outputs": [],
   "source": []
  },
  {
   "cell_type": "markdown",
   "id": "95895f31",
   "metadata": {},
   "source": [
    "---"
   ]
  },
  {
   "cell_type": "markdown",
   "id": "3e84d3de",
   "metadata": {},
   "source": [
    "## 효용함수와 비용함수\n",
    "- 모델이 최상의 성능을 내도록 하는 값을 알기 위해서는 측정지표를 정해야함\n",
    "\n",
    "### 효용함수(utility function), 적합도 함수(fitness function)\n",
    "- 모델이 얼마나 좋은지를 측정\n",
    "\n",
    "### 비용함수(cosf function)\n",
    "- 모델이 얼마나 나쁜지를 측정\n",
    "- ex) 선형회귀에서는 보통 선형 모델의 예측과 훈련 데이터 사이의 거리를 재는 비용함수를 사용, 이 거리를 최소화하는 것이 목표\n",
    "\n"
   ]
  },
  {
   "cell_type": "markdown",
   "id": "9220bb2d",
   "metadata": {},
   "source": [
    "--- "
   ]
  },
  {
   "cell_type": "markdown",
   "id": "12074a12",
   "metadata": {},
   "source": [
    "참고 : https://wikidocs.net/21679"
   ]
  }
 ],
 "metadata": {
  "kernelspec": {
   "display_name": "Python 3.10.9 64-bit (microsoft store)",
   "language": "python",
   "name": "python3"
  },
  "language_info": {
   "codemirror_mode": {
    "name": "ipython",
    "version": 3
   },
   "file_extension": ".py",
   "mimetype": "text/x-python",
   "name": "python",
   "nbconvert_exporter": "python",
   "pygments_lexer": "ipython3",
   "version": "3.10.9"
  },
  "vscode": {
   "interpreter": {
    "hash": "0df79a5982cc5a70553c602a5d43d4cb06524f7080da494cbafac53b4237f0a3"
   }
  }
 },
 "nbformat": 4,
 "nbformat_minor": 5
}
