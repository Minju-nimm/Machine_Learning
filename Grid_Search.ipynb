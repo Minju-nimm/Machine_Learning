{
 "cells": [
  {
   "attachments": {},
   "cell_type": "markdown",
   "metadata": {},
   "source": [
    "# [ Grid Search ]\n",
    "- 교차 검증과 최적 하이퍼 파라미터 튜닝을 한번에 \n",
    "- 하이퍼 파라미터 : 머신러닝 알고리즘을 구성하는 주요 구성 요소. 이 값을 조정해서 알고리즘의 예측 성능을 개선 가능"
   ]
  },
  {
   "cell_type": "code",
   "execution_count": null,
   "metadata": {},
   "outputs": [],
   "source": []
  },
  {
   "cell_type": "markdown",
   "metadata": {},
   "source": [
    "---"
   ]
  },
  {
   "attachments": {},
   "cell_type": "markdown",
   "metadata": {},
   "source": [
    "References\n",
    "- 파이썬 머신러닝 완벽 가이드 111p"
   ]
  },
  {
   "cell_type": "code",
   "execution_count": null,
   "metadata": {},
   "outputs": [],
   "source": []
  }
 ],
 "metadata": {
  "kernelspec": {
   "display_name": "Python 3.10.9 64-bit (microsoft store)",
   "language": "python",
   "name": "python3"
  },
  "language_info": {
   "name": "python",
   "version": "3.10.9"
  },
  "orig_nbformat": 4,
  "vscode": {
   "interpreter": {
    "hash": "0df79a5982cc5a70553c602a5d43d4cb06524f7080da494cbafac53b4237f0a3"
   }
  }
 },
 "nbformat": 4,
 "nbformat_minor": 2
}
